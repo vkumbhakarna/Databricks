{
 "cells": [
  {
   "cell_type": "markdown",
   "metadata": {
    "application/vnd.databricks.v1+cell": {
     "cellMetadata": {},
     "inputWidgets": {},
     "nuid": "08ad9ba6-3a0d-444d-a10c-bf25c15e8c69",
     "showTitle": false,
     "tableResultSettingsMap": {},
     "title": ""
    }
   },
   "source": []
  },
  {
   "cell_type": "markdown",
   "metadata": {
    "application/vnd.databricks.v1+cell": {
     "cellMetadata": {},
     "inputWidgets": {},
     "nuid": "3995bf9d-b496-4980-8276-51731b49b92e",
     "showTitle": false,
     "tableResultSettingsMap": {},
     "title": ""
    }
   },
   "source": [
    "%md\n",
    "# Overview\n",
    "\n",
    "Produce a quarterly KPI summary that compares actual TPCH sales against your targets, computes year-over-year growth, and flags performance status by nation. The end results of this should be a **TABLE**. **This is meant to demonstrate a multi-step program.**\n",
    "\n",
    "Imagine you need to deliver a “Quarterly Performance Dashboard” for regional managers, showing for each nation:\n",
    "1.  **Actual revenue** vs. **target revenue**\n",
    "2.  **Order count** vs. **target order count**\n",
    "3.  **% of target achieved**\n",
    "4.  **Year-over-year (YoY) revenue growth**\n",
    "5.  A simple **status flag** (“On Track”, “At Risk”, “Behind”)\n",
    "\n",
    "> **Note:** Upload the **target** files to a volume, these target files should then be read into a CTE using SQL so they can be joined with the rest of your TPCH orders data.\n",
    "\n",
    "> **Note:** Don't forget to define the `target catalog`, `target schema`, and `target view` name using the widgets to define where your final view will live. You may need to run cell 2 in order for the widgets to appear at the top of the notebook.\n",
    "\n",
    "> **Note:** In the code below you wil see the `IDENTIFIER` clause used when creating the view. The clause enables SQL injection safe parameterization of SQL statements. [You can read more here.](https://learn.microsoft.com/en-us/azure/databricks/sql/language-manual/sql-ref-names-identifier-clause). The `IDENTIFIER` clause is used when using variables (or parameters) and interprets a string as a:\n",
    ">>  - table or view name\n",
    ">>  - function name\n",
    ">>  - column name\n",
    ">>  - field name\n",
    ">>  - schema name\n",
    ">>  - catalog name"
   ]
  },
  {
   "cell_type": "markdown",
   "metadata": {
    "application/vnd.databricks.v1+cell": {
     "cellMetadata": {},
     "inputWidgets": {},
     "nuid": "3fd09458-7042-4779-9a57-ef00e4008f8e",
     "showTitle": false,
     "tableResultSettingsMap": {},
     "title": ""
    }
   },
   "source": [
    "## STEP 1: Create variables to define the name of the view you want to create"
   ]
  },
  {
   "cell_type": "code",
   "execution_count": 0,
   "metadata": {
    "application/vnd.databricks.v1+cell": {
     "cellMetadata": {
      "byteLimit": 2048000,
      "rowLimit": 10000
     },
     "inputWidgets": {},
     "nuid": "d55c8820-a144-4406-b76a-eeb3d01dbbb8",
     "showTitle": false,
     "tableResultSettingsMap": {},
     "title": ""
    }
   },
   "outputs": [],
   "source": [
    "-- create variables\n",
    "DECLARE OR REPLACE VARIABLE target_catalog STRING DEFAULT 'ae_prod'; \n",
    "DECLARE OR REPLACE VARIABLE target_schema STRING DEFAULT 'tpch';\n",
    "DECLARE OR REPLACE VARIABLE target_table STRING DEFAULT 'tpch_order_table'; \n",
    "DECLARE OR REPLACE VARIABLE target_fq_table STRING DEFAULT 'samples.tpch.order_table';"
   ]
  },
  {
   "cell_type": "code",
   "execution_count": 0,
   "metadata": {
    "application/vnd.databricks.v1+cell": {
     "cellMetadata": {
      "byteLimit": 2048000,
      "rowLimit": 10000
     },
     "inputWidgets": {},
     "nuid": "5339e83e-0ca4-485d-84e3-c7c8830cc812",
     "showTitle": false,
     "tableResultSettingsMap": {},
     "title": ""
    }
   },
   "outputs": [],
   "source": [
    "-- set variables\n",
    "SET VAR target_catalog = 'ae_prod';\n",
    "SET VAR target_schema = :target_schema;  \n",
    "SET VAR target_table = :target_table;\n",
    "-- concatenate the variables to create the fully qualified table name\n",
    "SET VAR target_fq_table = target_catalog || '.' || target_schema || '.' || target_table;\n",
    "\n",
    "\n",
    "--show the variable values\n",
    "SELECT target_catalog, target_schema, target_table, target_fq_table"
   ]
  },
  {
   "cell_type": "markdown",
   "metadata": {
    "application/vnd.databricks.v1+cell": {
     "cellMetadata": {},
     "inputWidgets": {},
     "nuid": "8d9c99cc-b14e-4dcb-b138-f28c91ccf6b7",
     "showTitle": false,
     "tableResultSettingsMap": {},
     "title": ""
    }
   },
   "source": [
    "## STEP 2: Read the CSV files\n",
    "Create a temporary view that reads the directory in the volume that contains the csv files.\n",
    "\n",
    "To read files in a volume using `SQL`, you can use the `read_files` table-valued function. An example is below, or you can read more about the syntax, arguments and options to specify [here](https://docs.databricks.com/aws/en/sql/language-manual/functions/read_files#csv-options).\n",
    "\n",
    "**If you are running this in your environment, make sure to update the read_files location with the volume location you placed your target files.**\n",
    "- [CSV files to upload to a volume](103_multi-step-transformations)\n",
    "- You can choose to upload a single file or multiple files. File names:\n",
    "  - nation_targets_1995.csv\n",
    "  - nation_targets_1996.csv \n",
    "  - nation_targets_1997.csv\n",
    "  - nation_targets_1998.csv    "
   ]
  },
  {
   "cell_type": "code",
   "execution_count": 0,
   "metadata": {
    "application/vnd.databricks.v1+cell": {
     "cellMetadata": {
      "byteLimit": 2048000,
      "rowLimit": 10000
     },
     "inputWidgets": {},
     "nuid": "d5daf547-f75e-4e18-9502-ea5b4cf5463d",
     "showTitle": false,
     "tableResultSettingsMap": {},
     "title": ""
    }
   },
   "outputs": [],
   "source": [
    "%sql\n",
    "\n",
    "-- create a temp view to read the csv files\n",
    "CREATE OR REPLACE TEMP VIEW targets\n",
    "AS (\n",
    "  SELECT *\n",
    "  FROM read_files('/Volumes/ddavis_dev/demo/volume_for_files/targets/', -- UPDATE THIS WITH YOUR VOLUME LOCATION\n",
    "    format => 'csv',\n",
    "    header => true,\n",
    "    inferSchema => true\n",
    "  )\n",
    ");"
   ]
  },
  {
   "cell_type": "markdown",
   "metadata": {
    "application/vnd.databricks.v1+cell": {
     "cellMetadata": {},
     "inputWidgets": {},
     "nuid": "ee21d041-5124-4795-8f3c-e14426128a7b",
     "showTitle": false,
     "tableResultSettingsMap": {},
     "title": ""
    }
   },
   "source": [
    "## STEP 3: Build actuals by quarter & nation"
   ]
  },
  {
   "cell_type": "code",
   "execution_count": 0,
   "metadata": {
    "application/vnd.databricks.v1+cell": {
     "cellMetadata": {
      "byteLimit": 2048000,
      "rowLimit": 10000
     },
     "inputWidgets": {},
     "nuid": "4aba55ed-3886-4787-99fd-cc330af8d6a4",
     "showTitle": false,
     "tableResultSettingsMap": {},
     "title": ""
    }
   },
   "outputs": [],
   "source": [
    "CREATE OR REPLACE TEMP VIEW actuals_qtr AS\n",
    "SELECT\n",
    "  concat(year(o.o_orderdate), '-Q', ceil(month(o.o_orderdate)/3.0)) AS year_quarter,\n",
    "  n.n_name                                               AS nation,\n",
    "  SUM(l.l_extendedprice * (1 - l.l_discount))           AS actual_revenue,\n",
    "  COUNT(DISTINCT o.o_orderkey)                           AS actual_order_count\n",
    "FROM samples.tpch.orders AS o\n",
    "JOIN samples.tpch.lineitem AS l\n",
    "  ON o.o_orderkey = l.l_orderkey\n",
    "JOIN samples.tpch.customer AS c\n",
    "  ON o.o_custkey   = c.c_custkey\n",
    "JOIN samples.tpch.nation AS n\n",
    "  ON c.c_nationkey = n.n_nationkey\n",
    "GROUP BY 1, 2;"
   ]
  },
  {
   "cell_type": "markdown",
   "metadata": {
    "application/vnd.databricks.v1+cell": {
     "cellMetadata": {},
     "inputWidgets": {},
     "nuid": "1bdd5a6e-cacf-47d5-9e81-58ec6eaa5550",
     "showTitle": false,
     "tableResultSettingsMap": {},
     "title": ""
    }
   },
   "source": [
    "## STEP 4: Join actuals to targets & compute % of target"
   ]
  },
  {
   "cell_type": "code",
   "execution_count": 0,
   "metadata": {
    "application/vnd.databricks.v1+cell": {
     "cellMetadata": {
      "byteLimit": 2048000,
      "rowLimit": 10000
     },
     "inputWidgets": {},
     "nuid": "2c2b37c4-1f24-474f-8797-7303266d3e3d",
     "showTitle": false,
     "tableResultSettingsMap": {},
     "title": ""
    }
   },
   "outputs": [],
   "source": [
    "CREATE OR REPLACE TEMP VIEW kpi_joined AS\n",
    "SELECT\n",
    "  t.year,\n",
    "  t.quarter,\n",
    "  CONCAT(t.year, t.quarter) as year_quarter,\n",
    "  t.nation,\n",
    "  a.actual_revenue,\n",
    "  t.target_revenue,\n",
    "  ROUND(a.actual_revenue / t.target_revenue * 100, 1) AS pct_of_revenue_target,\n",
    "  a.actual_order_count,\n",
    "  t.target_order_count\n",
    "FROM targets AS t\n",
    "LEFT JOIN actuals_qtr AS a\n",
    "  ON CONCAT(t.year, '-', t.quarter) = a.year_quarter\n",
    " AND t.nation       = a.nation;"
   ]
  },
  {
   "cell_type": "markdown",
   "metadata": {
    "application/vnd.databricks.v1+cell": {
     "cellMetadata": {},
     "inputWidgets": {},
     "nuid": "96bc4677-ab6d-496e-b7bc-fe1cef1acd75",
     "showTitle": false,
     "tableResultSettingsMap": {},
     "title": ""
    }
   },
   "source": [
    "## STEP 5: Compute YoY growth and performance flag"
   ]
  },
  {
   "cell_type": "code",
   "execution_count": 0,
   "metadata": {
    "application/vnd.databricks.v1+cell": {
     "cellMetadata": {
      "byteLimit": 2048000,
      "rowLimit": 10000
     },
     "inputWidgets": {},
     "nuid": "01330dc3-ceb2-4c1c-9767-347248485a6b",
     "showTitle": false,
     "tableResultSettingsMap": {},
     "title": ""
    }
   },
   "outputs": [],
   "source": [
    "CREATE OR REPLACE TEMP VIEW kpi_yoy AS\n",
    "SELECT\n",
    "  k.*,\n",
    "  -- extract numeric year and quarter\n",
    "  CAST(split(k.year_quarter,'Q')[0] AS INT) AS yr,\n",
    "  CAST(split(k.year_quarter,'Q')[1] AS INT) AS qtr\n",
    "FROM kpi_joined AS k;"
   ]
  },
  {
   "cell_type": "code",
   "execution_count": 0,
   "metadata": {
    "application/vnd.databricks.v1+cell": {
     "cellMetadata": {
      "byteLimit": 2048000,
      "rowLimit": 10000
     },
     "inputWidgets": {},
     "nuid": "de94f837-8883-4996-b7c1-a50ea91f29cf",
     "showTitle": false,
     "tableResultSettingsMap": {},
     "title": ""
    }
   },
   "outputs": [],
   "source": [
    "-- now join kpi_yoy to itself to get last-year’s revenue\n",
    "CREATE OR REPLACE TEMP VIEW kpi_with_growth AS\n",
    "SELECT\n",
    "  curr.year_quarter,\n",
    "  curr.nation,\n",
    "  curr.actual_revenue,\n",
    "  curr.target_revenue,\n",
    "  curr.pct_of_revenue_target,\n",
    "  curr.actual_order_count,\n",
    "  curr.target_order_count,\n",
    "  prev.actual_revenue AS actual_revenue_prev,\n",
    "  ROUND(\n",
    "    (curr.actual_revenue - prev.actual_revenue) / prev.actual_revenue * 100, 1\n",
    "  ) AS yoy_revenue_pct_change,\n",
    "  CASE\n",
    "    WHEN curr.pct_of_revenue_target >= 100 THEN 'On Track'\n",
    "    WHEN curr.pct_of_revenue_target >= 90  THEN 'At Risk'\n",
    "    ELSE 'Behind'\n",
    "  END AS performance_status\n",
    "FROM kpi_yoy AS curr\n",
    "LEFT JOIN kpi_yoy AS prev\n",
    "  ON curr.nation = prev.nation\n",
    " AND curr.yr    = cast(prev.yr as int) + 1\n",
    " AND curr.qtr   = prev.qtr;"
   ]
  },
  {
   "cell_type": "markdown",
   "metadata": {
    "application/vnd.databricks.v1+cell": {
     "cellMetadata": {},
     "inputWidgets": {},
     "nuid": "7755bd6a-158c-4f8b-b923-1f7fb50a4d6c",
     "showTitle": false,
     "tableResultSettingsMap": {},
     "title": ""
    }
   },
   "source": [
    "## STEP 6: Check out the final view"
   ]
  },
  {
   "cell_type": "code",
   "execution_count": 0,
   "metadata": {
    "application/vnd.databricks.v1+cell": {
     "cellMetadata": {
      "byteLimit": 2048000,
      "rowLimit": 10000
     },
     "inputWidgets": {},
     "nuid": "6165bbdd-cd98-48b4-a8bd-10dd3131d4b4",
     "showTitle": false,
     "tableResultSettingsMap": {},
     "title": ""
    }
   },
   "outputs": [],
   "source": [
    "-- select the final results to check them out before writing to the table!\n",
    "SELECT\n",
    "  year_quarter,\n",
    "  actual_revenue,\n",
    "  target_revenue,\n",
    "  pct_of_revenue_target,\n",
    "  actual_order_count,\n",
    "  target_order_count,\n",
    "  actual_revenue_prev,\n",
    "  yoy_revenue_pct_change,\n",
    "  performance_status\n",
    "FROM kpi_with_growth\n",
    "ORDER BY year_quarter, nation"
   ]
  },
  {
   "cell_type": "markdown",
   "metadata": {
    "application/vnd.databricks.v1+cell": {
     "cellMetadata": {},
     "inputWidgets": {},
     "nuid": "3e07ed9d-4dc4-4ed0-b2ca-5a8826dd0439",
     "showTitle": false,
     "tableResultSettingsMap": {},
     "title": ""
    }
   },
   "source": [
    "## STEP 7: Save the results to a table\n",
    "[Here is the link](https://docs.databricks.com/aws/en/sql/language-manual/sql-ref-syntax-ddl-create-table-using) to the documentation on using `CREATE TABLE`. \n",
    "\n",
    "\n",
    "> **Note:** In the code below you wil see the `IDENTIFIER` clause used when creating the view. The clause enables SQL injection safe parameterization of SQL statements. [You can read more here.](https://learn.microsoft.com/en-us/azure/databricks/sql/language-manual/sql-ref-names-identifier-clause). The `IDENTIFIER` clause is used when using variables (or parameters) and interprets a string as a:\n",
    ">>  - table or view name\n",
    ">>  - function name\n",
    ">>  - column name\n",
    ">>  - field name\n",
    ">>  - schema name\n",
    ">>  - catalog name"
   ]
  },
  {
   "cell_type": "code",
   "execution_count": 0,
   "metadata": {
    "application/vnd.databricks.v1+cell": {
     "cellMetadata": {},
     "inputWidgets": {},
     "nuid": "0e1ca9c1-3745-45cc-b47b-a08a13fcd957",
     "showTitle": false,
     "tableResultSettingsMap": {},
     "title": ""
    }
   },
   "outputs": [],
   "source": [
    "-- create the table using the query results\n",
    "CREATE OR REPLACE TABLE IDENTIFIER(target_fq_table)\n",
    "AS (SELECT * from kpi_with_growth)"
   ]
  },
  {
   "cell_type": "markdown",
   "metadata": {
    "application/vnd.databricks.v1+cell": {
     "cellMetadata": {},
     "inputWidgets": {},
     "nuid": "3b4f8f55-3c51-4cfd-aa35-6751a43e896b",
     "showTitle": false,
     "tableResultSettingsMap": {},
     "title": ""
    }
   },
   "source": [
    "## EXTRA: Additional table management commands for `INSERTS`, `UPDATES`, `DELETES`.\n",
    "The commands below do not reflect the schema of the table(s) created above, they are intended to serve as examples for additional ways to handle updating tables (e.g. incremental loads). **The commands in the cells below are also commented out so that they do not cause failures in this notebook.**\n",
    ">> Here are the links to additional documentation for these additional commands.\n",
    ">> - [MERGE INTO](https://docs.databricks.com/aws/en/sql/language-manual/delta-merge-into)\n",
    ">> - [INSERT INTO ](https://docs.databricks.com/aws/en/sql/language-manual/sql-ref-syntax-dml-insert-into)\n",
    ">> - [UPDATE](https://docs.databricks.com/aws/en/sql/language-manual/delta-update)\n",
    ">> - [DELETE](https://docs.databricks.com/aws/en/sql/language-manual/delta-delete-from)\n",
    ">> - [ALTER TABLE](https://docs.databricks.com/aws/en/sql/language-manual/sql-ref-syntax-ddl-alter-table)\n",
    "\n",
    "> **Note**: The following table management commands (`CREATE`, `REPLACE`, `DROP`, `TRUNCATE`, `INSERT`,\n",
    "`MERGE`, `UPDATE`, `DELETE`, `ALTER`, etc.) require proper permissions in your Databricks environment.\n",
    "If you don’t have the necessary privileges, these operations may fail."
   ]
  },
  {
   "cell_type": "code",
   "execution_count": 0,
   "metadata": {
    "application/vnd.databricks.v1+cell": {
     "cellMetadata": {},
     "inputWidgets": {},
     "nuid": "4f42c233-0233-4784-b91a-1c86c1d0a3ee",
     "showTitle": false,
     "tableResultSettingsMap": {},
     "title": ""
    }
   },
   "outputs": [],
   "source": [
    "-- Insert Into: Append today’s new orders into a historical orders table. Replace <catalog>.<schema>.<table_name> with your fully qualified name for the table.\n",
    "\n",
    "\n",
    "-- INSERT INTO <catalog>.<schema>.<table_name>\n",
    "-- SELECT *\n",
    "-- FROM samples.tpch.orders\n",
    "-- WHERE o_orderdate = CURRENT_DATE();"
   ]
  },
  {
   "cell_type": "code",
   "execution_count": 0,
   "metadata": {
    "application/vnd.databricks.v1+cell": {
     "cellMetadata": {},
     "inputWidgets": {},
     "nuid": "d901c6f6-bdcd-4276-9f07-dad56cee2fa4",
     "showTitle": false,
     "tableResultSettingsMap": {},
     "title": ""
    }
   },
   "outputs": [],
   "source": [
    "-- Merge Into: Upsert daily shipment records—update existing, insert new.\n",
    "\n",
    "\n",
    "-- MERGE INTO <catalog>.<schema>.<table_name> AS target\n",
    "-- USING daily_shipments AS source\n",
    "--   ON target.ship_id = source.ship_id\n",
    "-- WHEN MATCHED THEN\n",
    "--   UPDATE SET\n",
    "--     target.status       = source.status,\n",
    "--     target.last_updated = source.last_updated\n",
    "-- WHEN NOT MATCHED THEN\n",
    "--   INSERT (ship_id, order_id, status, last_updated)\n",
    "--   VALUES (source.ship_id, source.order_id, source.status, source.last_updated);"
   ]
  },
  {
   "cell_type": "code",
   "execution_count": 0,
   "metadata": {
    "application/vnd.databricks.v1+cell": {
     "cellMetadata": {},
     "inputWidgets": {},
     "nuid": "2a27241b-bec9-4877-8ec1-27370e2caf2c",
     "showTitle": false,
     "tableResultSettingsMap": {},
     "title": ""
    }
   },
   "outputs": [],
   "source": [
    "-- Update: Correct customer nation key where it’s missing. Replace <catalog>.<schema>.<table_name> with your fully qualified name for the table.\n",
    "\n",
    "\n",
    "-- UPDATE <catalog>.<schema>.<table_name>\n",
    "-- SET c_nationkey = 1\n",
    "-- WHERE c_nationkey IS NULL;"
   ]
  },
  {
   "cell_type": "code",
   "execution_count": 0,
   "metadata": {
    "application/vnd.databricks.v1+cell": {
     "cellMetadata": {},
     "inputWidgets": {},
     "nuid": "a97d27ff-823f-466a-98ea-06f8a7d30739",
     "showTitle": false,
     "tableResultSettingsMap": {},
     "title": ""
    }
   },
   "outputs": [],
   "source": [
    "-- Delete: Remove cancelled orders that have zero total price. Replace <catalog>.<schema>.<table_name> with your fully qualified name for the table.\n",
    "\n",
    "\n",
    "-- DELETE FROM <catalog>.<schema>.<table_name>\n",
    "-- WHERE o_totalprice = 0;"
   ]
  },
  {
   "cell_type": "code",
   "execution_count": 0,
   "metadata": {
    "application/vnd.databricks.v1+cell": {
     "cellMetadata": {},
     "inputWidgets": {},
     "nuid": "2a238a0d-9e70-4467-a687-da8a1e47d534",
     "showTitle": false,
     "tableResultSettingsMap": {},
     "title": ""
    }
   },
   "outputs": [],
   "source": [
    "-- Alter Table – Add Column: Add a load_date column to track ingestion timestamp. Replace <catalog>.<schema>.<table_name> with your fully qualified name for the table.\n",
    "\n",
    "\n",
    "-- ALTER TABLE <catalog>.<schema>.<table_name>\n",
    "-- ADD COLUMNS (load_date DATE);"
   ]
  },
  {
   "cell_type": "code",
   "execution_count": 0,
   "metadata": {
    "application/vnd.databricks.v1+cell": {
     "cellMetadata": {},
     "inputWidgets": {},
     "nuid": "def52be6-0649-4910-a7a4-5eab4971f834",
     "showTitle": false,
     "tableResultSettingsMap": {},
     "title": ""
    }
   },
   "outputs": [],
   "source": [
    "-- Alter Table – Drop Column: Remove an obsolete column from a table. Replace <catalog>.<schema>.<table_name> with your fully qualified name for the table.\n",
    "\n",
    "\n",
    "-- ALTER TABLE <catalog>.<schema>.<table_name>\n",
    "-- DROP COLUMN revenue;"
   ]
  }
 ],
 "metadata": {
  "application/vnd.databricks.v1+notebook": {
   "computePreferences": null,
   "dashboards": [],
   "environmentMetadata": {
    "base_environment": "",
    "environment_version": "2"
   },
   "inputWidgetPreferences": null,
   "language": "sql",
   "notebookMetadata": {
    "pythonIndentUnit": 2
   },
   "notebookName": "create_targets_table",
   "widgets": {
    "target_schema": {
     "currentValue": "",
     "nuid": "82db06dd-acc5-4c27-aebf-784e020055ae",
     "typedWidgetInfo": {
      "autoCreated": true,
      "defaultValue": "",
      "label": null,
      "name": "target_schema",
      "options": {
       "widgetDisplayType": "Text",
       "validationRegex": null
      },
      "parameterDataType": "String"
     },
     "widgetInfo": {
      "widgetType": "text",
      "defaultValue": "",
      "label": null,
      "name": "target_schema",
      "options": {
       "widgetType": "text",
       "autoCreated": true,
       "validationRegex": null
      }
     }
    },
    "target_table": {
     "currentValue": "",
     "nuid": "f9ef5c12-76c1-4059-9ac8-e712c2d8b930",
     "typedWidgetInfo": {
      "autoCreated": true,
      "defaultValue": "",
      "label": null,
      "name": "target_table",
      "options": {
       "widgetDisplayType": "Text",
       "validationRegex": null
      },
      "parameterDataType": "String"
     },
     "widgetInfo": {
      "widgetType": "text",
      "defaultValue": "",
      "label": null,
      "name": "target_table",
      "options": {
       "widgetType": "text",
       "autoCreated": true,
       "validationRegex": null
      }
     }
    }
   }
  },
  "language_info": {
   "name": "sql"
  }
 },
 "nbformat": 4,
 "nbformat_minor": 0
}
