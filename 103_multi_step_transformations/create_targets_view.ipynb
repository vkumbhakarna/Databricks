{
 "cells": [
  {
   "cell_type": "markdown",
   "metadata": {
    "application/vnd.databricks.v1+cell": {
     "cellMetadata": {},
     "inputWidgets": {},
     "nuid": "9bf56549-c19f-4e70-9671-bc52e379ef4b",
     "showTitle": false,
     "tableResultSettingsMap": {},
     "title": ""
    }
   },
   "source": [
    "# Overview\n",
    "\n",
    "Produce a quarterly KPI summary that compares actual TPCH sales against your targets, computes year-over-year growth, and flags performance status by nation. The end results of this should be a **VIEW**.\n",
    "\n",
    "Imagine you need to deliver a “Quarterly Performance Dashboard” for regional managers, showing for each nation:\n",
    "1.  **Actual revenue** vs. **target revenue**\n",
    "2.  **Order count** vs. **target order count**\n",
    "3.  **% of target achieved**\n",
    "4.  **Year-over-year (YoY) revenue growth**\n",
    "5.  A simple **status flag** (“On Track”, “At Risk”, “Behind”)\n",
    "\n",
    "> **Note:** Upload the **target** files to a volume, these target files should then be read into a CTE using SQL so they can be joined with the rest of your TPCH orders data.\n",
    "\n",
    "> **Note:** Don't forget to define the `target catalog`, `target schema`, and `target view` name using the widgets to define where your final view will live. You may need to run cell 2 in order for the widgets to appear at the top of the notebook.\n",
    "\n",
    "> **Note:** In the code below you wil see the `IDENTIFIER` clause used when creating the view. The clause enables SQL injection safe parameterization of SQL statements. [You can read more here.](https://learn.microsoft.com/en-us/azure/databricks/sql/language-manual/sql-ref-names-identifier-clause). The `IDENTIFIER` clause is used when using variables (or parameters) and interprets a string as a:\n",
    ">>  - table or view name\n",
    ">>  - function name\n",
    ">>  - column name\n",
    ">>  - field name\n",
    ">>  - schema name\n",
    ">>  - catalog name"
   ]
  },
  {
   "cell_type": "code",
   "execution_count": 0,
   "metadata": {
    "application/vnd.databricks.v1+cell": {
     "cellMetadata": {
      "byteLimit": 2048000,
      "rowLimit": 10000
     },
     "inputWidgets": {},
     "nuid": "15b72b3f-70db-46f5-8f00-96d65da0f218",
     "showTitle": true,
     "tableResultSettingsMap": {},
     "title": "Define variables"
    }
   },
   "outputs": [],
   "source": [
    "/*************************************************************************\n",
    "STEP 1: Create variables to define the name of the view you want to create\n",
    "**************************************************************************/\n",
    "DECLARE OR REPLACE VARIABLE target_catalog STRING DEFAULT 'ae_prod';\n",
    "DECLARE OR REPLACE VARIABLE target_schema STRING DEFAULT 'tpch';\n",
    "DECLARE OR REPLACE VARIABLE target_view STRING DEFAULT 'tpch_order_view';\n",
    "-- create a variable for the fully qualified table name\n",
    "DECLARE OR REPLACE VARIABLE target_fq_view STRING DEFAULT 'samples.samples.tpch.order_view';\n",
    "\n",
    "-- set variables\n",
    "SET VAR target_catalog = 'ae_prod';\n",
    "SET VAR target_schema = :target_schema;\n",
    "SET VAR target_view = :target_view;\n",
    "-- concatenate the variables to create the fully qualified table name\n",
    "SET VAR target_fq_view = target_catalog || '.' || target_schema || '.' || target_view;\n",
    "\n",
    "--show the variable values\n",
    "SELECT target_catalog, target_schema, target_view, target_fq_view"
   ]
  },
  {
   "cell_type": "code",
   "execution_count": 0,
   "metadata": {
    "application/vnd.databricks.v1+cell": {
     "cellMetadata": {
      "byteLimit": 2048000,
      "rowLimit": 10000
     },
     "inputWidgets": {},
     "nuid": "f82ae4f8-4edb-4138-9bb8-a096e878bd1d",
     "showTitle": false,
     "tableResultSettingsMap": {},
     "title": ""
    }
   },
   "outputs": [],
   "source": [
    "/*************************************\n",
    "STEP 2: Add syntax to create the view\n",
    "************************************/\n",
    "\n",
    "CREATE OR REPLACE VIEW IDENTIFIER(target_fq_view)\n",
    "  AS (\n",
    "\n",
    "/*******************************\n",
    "STEP 3: Load your CSV of targets\n",
    "********************************/\n",
    "WITH raw_targets AS (\n",
    "  SELECT *\n",
    "  FROM read_files('/Volumes/ddavis_dev/demo/volume_for_files/targets/',\n",
    "    format => 'csv',\n",
    "    header => true,\n",
    "    inferSchema => true\n",
    "  )\n",
    "),\n",
    "\n",
    "/********************************************\n",
    "STEP 4: Build actuals by quarter & nation\n",
    "********************************************/\n",
    "actuals_qtr AS (\n",
    "  SELECT\n",
    "    concat(year(o.o_orderdate), '-Q', ceil(month(o.o_orderdate)/3.0)) AS year_quarter,\n",
    "    n.n_name                                               AS nation,\n",
    "    SUM(l.l_extendedprice * (1 - l.l_discount))           AS actual_revenue,\n",
    "    COUNT(DISTINCT o.o_orderkey)                           AS actual_order_count\n",
    "  FROM samples.tpch.orders AS o\n",
    "  JOIN samples.tpch.lineitem AS l\n",
    "    ON o.o_orderkey = l.l_orderkey\n",
    "  JOIN samples.tpch.customer AS c\n",
    "    ON o.o_custkey   = c.c_custkey\n",
    "  JOIN samples.tpch.nation AS n\n",
    "    ON c.c_nationkey = n.n_nationkey\n",
    "  GROUP BY 1, 2\n",
    "),\n",
    "\n",
    "/*******************************************************\n",
    "STEP 5: Join actuals to targets & compute % of target\n",
    "*******************************************************/\n",
    "kpi_joined AS (\n",
    "  SELECT\n",
    "    t.year,\n",
    "    t.quarter,\n",
    "    CONCAT(t.year, t.quarter) as year_quarter,\n",
    "    t.nation,\n",
    "    a.actual_revenue,\n",
    "    t.target_revenue,\n",
    "    ROUND(a.actual_revenue / t.target_revenue * 100, 1) AS pct_of_revenue_target,\n",
    "    a.actual_order_count,\n",
    "    t.target_order_count\n",
    "  FROM raw_targets AS t\n",
    "  LEFT JOIN actuals_qtr AS a\n",
    "    ON CONCAT(t.year, '-', t.quarter) = a.year_quarter\n",
    "   AND t.nation       = a.nation\n",
    "),\n",
    "\n",
    "/*******************************************************\n",
    "STEP 6: Compute YoY growth and performance flag\n",
    "*******************************************************/\n",
    "kpi_yoy AS (\n",
    "  SELECT\n",
    "    k.*,\n",
    "    -- extract numeric year and quarter\n",
    "    CAST(split(k.year_quarter,'Q')[0] AS INT) AS yr,\n",
    "    CAST(split(k.year_quarter,'Q')[1] AS INT) AS qtr\n",
    "  FROM kpi_joined AS k\n",
    "),\n",
    "\n",
    "-- now join kpi_yoy to itself to get last-year’s revenue\n",
    "kpi_with_growth AS (\n",
    "  SELECT\n",
    "    curr.year_quarter,\n",
    "    curr.nation,\n",
    "    curr.actual_revenue,\n",
    "    curr.target_revenue,\n",
    "    curr.pct_of_revenue_target,\n",
    "    curr.actual_order_count,\n",
    "    curr.target_order_count,\n",
    "    prev.actual_revenue AS actual_revenue_prev,\n",
    "    ROUND(\n",
    "      (curr.actual_revenue - prev.actual_revenue) / prev.actual_revenue * 100, 1\n",
    "    ) AS yoy_revenue_pct_change,\n",
    "    CASE\n",
    "      WHEN curr.pct_of_revenue_target >= 100 THEN 'On Track'\n",
    "      WHEN curr.pct_of_revenue_target >= 90  THEN 'At Risk'\n",
    "      ELSE 'Behind'\n",
    "    END AS performance_status\n",
    "  FROM kpi_yoy AS curr\n",
    "  LEFT JOIN kpi_yoy AS prev\n",
    "    ON curr.nation = prev.nation\n",
    "   AND curr.yr    = cast(prev.yr as int) + 1\n",
    "   AND curr.qtr   = prev.qtr\n",
    ")\n",
    "\n",
    "\n",
    "/*************************************\n",
    "STEP 7: Final view definition\n",
    "*************************************/\n",
    "SELECT\n",
    "  year_quarter,\n",
    "  actual_revenue,\n",
    "  target_revenue,\n",
    "  pct_of_revenue_target,\n",
    "  actual_order_count,\n",
    "  target_order_count,\n",
    "  actual_revenue_prev,\n",
    "  yoy_revenue_pct_change,\n",
    "  performance_status\n",
    "FROM kpi_with_growth\n",
    "ORDER BY year_quarter, nation\n",
    ");"
   ]
  }
 ],
 "metadata": {
  "application/vnd.databricks.v1+notebook": {
   "computePreferences": null,
   "dashboards": [],
   "environmentMetadata": {
    "base_environment": "",
    "environment_version": "2"
   },
   "inputWidgetPreferences": null,
   "language": "sql",
   "notebookMetadata": {
    "pythonIndentUnit": 2
   },
   "notebookName": "create_targets_view",
   "widgets": {
    "target_schema": {
     "currentValue": "",
     "nuid": "a160ac29-ab6e-489b-9a31-e2b686235c48",
     "typedWidgetInfo": {
      "autoCreated": true,
      "defaultValue": "",
      "label": null,
      "name": "target_schema",
      "options": {
       "widgetDisplayType": "Text",
       "validationRegex": null
      },
      "parameterDataType": "String"
     },
     "widgetInfo": {
      "widgetType": "text",
      "defaultValue": "",
      "label": null,
      "name": "target_schema",
      "options": {
       "widgetType": "text",
       "autoCreated": true,
       "validationRegex": null
      }
     }
    },
    "target_view": {
     "currentValue": "",
     "nuid": "481b9eeb-2eac-4482-8d9c-03eaba1d2cdd",
     "typedWidgetInfo": {
      "autoCreated": true,
      "defaultValue": "",
      "label": null,
      "name": "target_view",
      "options": {
       "widgetDisplayType": "Text",
       "validationRegex": null
      },
      "parameterDataType": "String"
     },
     "widgetInfo": {
      "widgetType": "text",
      "defaultValue": "",
      "label": null,
      "name": "target_view",
      "options": {
       "widgetType": "text",
       "autoCreated": true,
       "validationRegex": null
      }
     }
    }
   }
  },
  "language_info": {
   "name": "sql"
  }
 },
 "nbformat": 4,
 "nbformat_minor": 0
}
