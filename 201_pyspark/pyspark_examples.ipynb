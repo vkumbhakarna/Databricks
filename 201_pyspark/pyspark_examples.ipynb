{
 "cells": [
  {
   "cell_type": "markdown",
   "metadata": {
    "application/vnd.databricks.v1+cell": {
     "cellMetadata": {},
     "inputWidgets": {},
     "nuid": "e401dba9-9b70-4e6f-b024-cc4f97116433",
     "showTitle": false,
     "tableResultSettingsMap": {},
     "title": ""
    }
   },
   "source": [
    "# First - Create your DataFrame"
   ]
  },
  {
   "cell_type": "code",
   "execution_count": 0,
   "metadata": {
    "application/vnd.databricks.v1+cell": {
     "cellMetadata": {
      "byteLimit": 2048000,
      "rowLimit": 10000
     },
     "inputWidgets": {},
     "nuid": "1351c3d7-909f-46bb-84ab-178d1f6323ed",
     "showTitle": false,
     "tableResultSettingsMap": {},
     "title": ""
    }
   },
   "outputs": [],
   "source": [
    "# read the samples.tpch.orders table into a dataframe\n",
    "df = spark.table('samples.tpch.orders')"
   ]
  },
  {
   "cell_type": "markdown",
   "metadata": {
    "application/vnd.databricks.v1+cell": {
     "cellMetadata": {},
     "inputWidgets": {},
     "nuid": "bf50fb58-de8c-4821-a818-f0b4f078819a",
     "showTitle": false,
     "tableResultSettingsMap": {},
     "title": ""
    }
   },
   "source": [
    "## Basics"
   ]
  },
  {
   "cell_type": "code",
   "execution_count": 0,
   "metadata": {
    "application/vnd.databricks.v1+cell": {
     "cellMetadata": {
      "byteLimit": 2048000,
      "rowLimit": 10000
     },
     "inputWidgets": {},
     "nuid": "7402b8c2-9908-4315-8ae5-fccceb7f5cf1",
     "showTitle": false,
     "tableResultSettingsMap": {},
     "title": ""
    }
   },
   "outputs": [],
   "source": [
    "# Show a preview\n",
    "df.display()"
   ]
  },
  {
   "cell_type": "code",
   "execution_count": 0,
   "metadata": {
    "application/vnd.databricks.v1+cell": {
     "cellMetadata": {
      "byteLimit": 2048000,
      "rowLimit": 10000
     },
     "inputWidgets": {},
     "nuid": "6ec576bc-37ad-422d-9bb1-b54719d07971",
     "showTitle": false,
     "tableResultSettingsMap": {},
     "title": ""
    }
   },
   "outputs": [],
   "source": [
    "# Show preview of first / last n rows\n",
    "df.head(5)\n",
    "df.tail(5)"
   ]
  },
  {
   "cell_type": "code",
   "execution_count": 0,
   "metadata": {
    "application/vnd.databricks.v1+cell": {
     "cellMetadata": {
      "byteLimit": 2048000,
      "rowLimit": 10000
     },
     "inputWidgets": {},
     "nuid": "e841a750-212a-4d9a-80d3-80288e7ddd6d",
     "showTitle": false,
     "tableResultSettingsMap": {},
     "title": ""
    }
   },
   "outputs": [],
   "source": [
    "# Limit actual DataFrame to n rows (non-deterministic)\n",
    "df = df.limit(5)\n",
    "df.display()"
   ]
  },
  {
   "cell_type": "code",
   "execution_count": 0,
   "metadata": {
    "application/vnd.databricks.v1+cell": {
     "cellMetadata": {
      "byteLimit": 2048000,
      "rowLimit": 10000
     },
     "inputWidgets": {},
     "nuid": "17bf6c9d-9906-4fb6-be6f-c8115d8c1e74",
     "showTitle": false,
     "tableResultSettingsMap": {},
     "title": ""
    }
   },
   "outputs": [],
   "source": [
    "# Get columns\n",
    "df.columns"
   ]
  },
  {
   "cell_type": "code",
   "execution_count": 0,
   "metadata": {
    "application/vnd.databricks.v1+cell": {
     "cellMetadata": {
      "byteLimit": 2048000,
      "rowLimit": 10000
     },
     "inputWidgets": {},
     "nuid": "f3cbbe4b-57ff-467f-9b1c-bd7dae32e284",
     "showTitle": false,
     "tableResultSettingsMap": {},
     "title": ""
    }
   },
   "outputs": [],
   "source": [
    "# Get columns + column types\n",
    "df.dtypes"
   ]
  },
  {
   "cell_type": "code",
   "execution_count": 0,
   "metadata": {
    "application/vnd.databricks.v1+cell": {
     "cellMetadata": {
      "byteLimit": 2048000,
      "rowLimit": 10000
     },
     "inputWidgets": {},
     "nuid": "28f57dd2-61fc-4721-9cde-c096ea413f90",
     "showTitle": false,
     "tableResultSettingsMap": {},
     "title": ""
    }
   },
   "outputs": [],
   "source": [
    "# Get schema\n",
    "df.schema"
   ]
  },
  {
   "cell_type": "code",
   "execution_count": 0,
   "metadata": {
    "application/vnd.databricks.v1+cell": {
     "cellMetadata": {
      "byteLimit": 2048000,
      "rowLimit": 10000
     },
     "inputWidgets": {},
     "nuid": "d1f45f95-3457-4e64-8fa7-1aa766d265fe",
     "showTitle": false,
     "tableResultSettingsMap": {},
     "title": ""
    }
   },
   "outputs": [],
   "source": [
    "# Get row count\n",
    "df.count()"
   ]
  },
  {
   "cell_type": "code",
   "execution_count": 0,
   "metadata": {
    "application/vnd.databricks.v1+cell": {
     "cellMetadata": {
      "byteLimit": 2048000,
      "rowLimit": 10000
     },
     "inputWidgets": {},
     "nuid": "d9da0966-89fd-4153-9ddc-8ef17ad233d0",
     "showTitle": false,
     "tableResultSettingsMap": {},
     "title": ""
    }
   },
   "outputs": [],
   "source": [
    "# Get column count\n",
    "len(df.columns)"
   ]
  },
  {
   "cell_type": "code",
   "execution_count": 0,
   "metadata": {
    "application/vnd.databricks.v1+cell": {
     "cellMetadata": {},
     "inputWidgets": {},
     "nuid": "70269d82-ec49-4323-a176-04d0dd1d1d9a",
     "showTitle": false,
     "tableResultSettingsMap": {},
     "title": ""
    }
   },
   "outputs": [],
   "source": [
    "# Write output csv to volume\n",
    "df.write.csv('/path/to/your/output/volume')"
   ]
  },
  {
   "cell_type": "code",
   "execution_count": 0,
   "metadata": {
    "application/vnd.databricks.v1+cell": {
     "cellMetadata": {
      "byteLimit": 2048000,
      "rowLimit": 10000
     },
     "inputWidgets": {},
     "nuid": "46484133-37a8-4542-aac8-9822b9d5ced1",
     "showTitle": false,
     "tableResultSettingsMap": {},
     "title": ""
    }
   },
   "outputs": [],
   "source": [
    "# Get results (WARNING: in-memory) as list of PySpark Rows (only limit this to 5 rows)\n",
    "df_list = df.limit(5).collect()\n",
    "\n",
    "print(df_list)"
   ]
  },
  {
   "cell_type": "markdown",
   "metadata": {
    "application/vnd.databricks.v1+cell": {
     "cellMetadata": {},
     "inputWidgets": {},
     "nuid": "0ae91a21-4511-4a66-99a8-235a58311e1d",
     "showTitle": false,
     "tableResultSettingsMap": {},
     "title": ""
    }
   },
   "source": [
    "# Common Patterns"
   ]
  },
  {
   "cell_type": "markdown",
   "metadata": {
    "application/vnd.databricks.v1+cell": {
     "cellMetadata": {},
     "inputWidgets": {},
     "nuid": "f55839bb-04a2-4df8-8152-3572ca069a54",
     "showTitle": false,
     "tableResultSettingsMap": {},
     "title": ""
    }
   },
   "source": [
    "###Importing Functions & Types"
   ]
  },
  {
   "cell_type": "code",
   "execution_count": 0,
   "metadata": {
    "application/vnd.databricks.v1+cell": {
     "cellMetadata": {
      "byteLimit": 2048000,
      "rowLimit": 10000
     },
     "inputWidgets": {},
     "nuid": "e85f8605-c707-43fc-a524-99470beafbf1",
     "showTitle": false,
     "tableResultSettingsMap": {},
     "title": ""
    }
   },
   "outputs": [],
   "source": [
    "# Easily reference these as F.my_function() and T.my_type() below\n",
    "from pyspark.sql import functions as F, types as T"
   ]
  },
  {
   "cell_type": "markdown",
   "metadata": {
    "application/vnd.databricks.v1+cell": {
     "cellMetadata": {},
     "inputWidgets": {},
     "nuid": "b4b1437d-6256-4e7c-8da6-479d203497ad",
     "showTitle": false,
     "tableResultSettingsMap": {},
     "title": ""
    }
   },
   "source": [
    "### Filtering"
   ]
  },
  {
   "cell_type": "code",
   "execution_count": 0,
   "metadata": {
    "application/vnd.databricks.v1+cell": {
     "cellMetadata": {
      "byteLimit": 2048000,
      "rowLimit": 10000
     },
     "inputWidgets": {},
     "nuid": "ab55f628-d23c-4810-8287-248d185433c9",
     "showTitle": false,
     "tableResultSettingsMap": {},
     "title": ""
    }
   },
   "outputs": [],
   "source": [
    "# Filter on equals condition\n",
    "df = df.filter(df.o_orderstatus == 'F')"
   ]
  },
  {
   "cell_type": "code",
   "execution_count": 0,
   "metadata": {
    "application/vnd.databricks.v1+cell": {
     "cellMetadata": {},
     "inputWidgets": {},
     "nuid": "0c1a736b-1c99-4857-b59d-629f4fb472a8",
     "showTitle": false,
     "tableResultSettingsMap": {},
     "title": ""
    }
   },
   "outputs": [],
   "source": [
    "# Filter on >, <, >=, <= condition\n",
    "df = df.filter(df.o_totalprice > 100000)"
   ]
  },
  {
   "cell_type": "code",
   "execution_count": 0,
   "metadata": {
    "application/vnd.databricks.v1+cell": {
     "cellMetadata": {},
     "inputWidgets": {},
     "nuid": "09263f8c-504f-4883-8ac5-2467fc2665e6",
     "showTitle": false,
     "tableResultSettingsMap": {},
     "title": ""
    }
   },
   "outputs": [],
   "source": [
    "# Multiple conditions require parentheses around each condition\n",
    "df = df.filter((df.o_totalprice > 100000) & (df.o_orderstatus == 'F'))"
   ]
  },
  {
   "cell_type": "code",
   "execution_count": 0,
   "metadata": {
    "application/vnd.databricks.v1+cell": {
     "cellMetadata": {},
     "inputWidgets": {},
     "nuid": "ac7f6a4f-56be-4d2d-ae47-788b05939be3",
     "showTitle": false,
     "tableResultSettingsMap": {},
     "title": ""
    }
   },
   "outputs": [],
   "source": [
    "# Filter orders where order priority is one of these values\n",
    "df = df.filter(col('o_orderpriority').isin(['1-URGENT', '2-HIGH', '3-MEDIUM']))"
   ]
  },
  {
   "cell_type": "code",
   "execution_count": 0,
   "metadata": {
    "application/vnd.databricks.v1+cell": {
     "cellMetadata": {},
     "inputWidgets": {},
     "nuid": "83eed481-2d6f-4c35-aa5d-1f11172a48f9",
     "showTitle": false,
     "tableResultSettingsMap": {},
     "title": ""
    }
   },
   "outputs": [],
   "source": [
    "# Sort results\n",
    "df = df.orderBy(df.orderdate.asc()))\n",
    "df = df.orderBy(df.orderdate.desc()))"
   ]
  },
  {
   "cell_type": "markdown",
   "metadata": {
    "application/vnd.databricks.v1+cell": {
     "cellMetadata": {},
     "inputWidgets": {},
     "nuid": "3b1db096-b80d-4431-9917-4b93fc4085c3",
     "showTitle": false,
     "tableResultSettingsMap": {},
     "title": ""
    }
   },
   "source": [
    "### Joins"
   ]
  },
  {
   "cell_type": "code",
   "execution_count": 0,
   "metadata": {
    "application/vnd.databricks.v1+cell": {
     "cellMetadata": {
      "byteLimit": 2048000,
      "rowLimit": 10000
     },
     "inputWidgets": {},
     "nuid": "be3a8154-8bfc-41f4-b25c-8df9237919ba",
     "showTitle": false,
     "tableResultSettingsMap": {},
     "title": ""
    }
   },
   "outputs": [],
   "source": [
    "# Left join orders with customers on customer key\n",
    "customer_df = spark.table('samples.tpch.customer')\n",
    "df = df.join(customer_df, df.o_custkey == customer_df.c_custkey, 'left')"
   ]
  },
  {
   "cell_type": "code",
   "execution_count": 0,
   "metadata": {
    "application/vnd.databricks.v1+cell": {
     "cellMetadata": {},
     "inputWidgets": {},
     "nuid": "8032ab63-d223-4ecf-a24a-ed8cd0171448",
     "showTitle": false,
     "tableResultSettingsMap": {},
     "title": ""
    }
   },
   "outputs": [],
   "source": [
    "# Match orders.o_custkey to customer.c_custkey (explicit column match)\n",
    "customer_df = spark.table('samples.tpch.customer')\n",
    "df = df.join(customer_df, df.o_custkey == customer_df.c_custkey, 'left')"
   ]
  },
  {
   "cell_type": "code",
   "execution_count": 0,
   "metadata": {
    "application/vnd.databricks.v1+cell": {
     "cellMetadata": {
      "byteLimit": 2048000,
      "rowLimit": 10000
     },
     "inputWidgets": {},
     "nuid": "9e8b0f45-5da3-4e0d-b7fa-53c7432a85d3",
     "showTitle": false,
     "tableResultSettingsMap": {},
     "title": ""
    }
   },
   "outputs": [],
   "source": [
    "# Join orders and lineitem on multiple columns (example)\n",
    "lineitem_df = spark.table('samples.tpch.lineitem')\n",
    "df = df.join(lineitem_df, (df.o_orderkey == lineitem_df.l_orderkey) & (df.o_orderdate == lineitem_df.l_shipdate), 'left')"
   ]
  },
  {
   "cell_type": "markdown",
   "metadata": {
    "application/vnd.databricks.v1+cell": {
     "cellMetadata": {},
     "inputWidgets": {},
     "nuid": "75780110-a273-4ba0-ba12-52687fe75179",
     "showTitle": false,
     "tableResultSettingsMap": {},
     "title": ""
    }
   },
   "source": [
    "### Column Operations"
   ]
  },
  {
   "cell_type": "code",
   "execution_count": 0,
   "metadata": {
    "application/vnd.databricks.v1+cell": {
     "cellMetadata": {},
     "inputWidgets": {},
     "nuid": "74756b12-a670-4ff0-8670-9efce8e0f40e",
     "showTitle": false,
     "tableResultSettingsMap": {},
     "title": ""
    }
   },
   "outputs": [],
   "source": [
    "# Add a new static column indicating review status\n",
    "df = df.withColumn('review_status', F.lit('REVIEWED'))"
   ]
  },
  {
   "cell_type": "code",
   "execution_count": 0,
   "metadata": {
    "application/vnd.databricks.v1+cell": {
     "cellMetadata": {},
     "inputWidgets": {},
     "nuid": "6f632c76-acfe-4905-9da0-d916ea42ece0",
     "showTitle": false,
     "tableResultSettingsMap": {},
     "title": ""
    }
   },
   "outputs": [],
   "source": [
    "# Construct a new dynamic column combining order priority and status\n",
    "df = df.withColumn('order_summary', F.when(\n",
    "    (df.o_orderpriority.isNotNull() & df.o_orderstatus.isNotNull()),\n",
    "    F.concat(df.o_orderpriority, F.lit(' - '), df.o_orderstatus)\n",
    ").otherwise(F.lit('N/A')))"
   ]
  },
  {
   "cell_type": "code",
   "execution_count": 0,
   "metadata": {
    "application/vnd.databricks.v1+cell": {
     "cellMetadata": {},
     "inputWidgets": {},
     "nuid": "6179bd11-484d-41cf-8513-9ba03d8d5216",
     "showTitle": false,
     "tableResultSettingsMap": {},
     "title": ""
    }
   },
   "outputs": [],
   "source": [
    "# Pick which columns to keep, optionally rename some\n",
    "df = df.select(\n",
    "    'o_orderkey',\n",
    "    'o_custkey',\n",
    "    F.col('o_orderdate').alias('order_date')\n",
    ")"
   ]
  },
  {
   "cell_type": "code",
   "execution_count": 0,
   "metadata": {
    "application/vnd.databricks.v1+cell": {
     "cellMetadata": {},
     "inputWidgets": {},
     "nuid": "34ee7ffd-d83c-4118-b690-d06816cf3d56",
     "showTitle": false,
     "tableResultSettingsMap": {},
     "title": ""
    }
   },
   "outputs": [],
   "source": [
    "# Drop columns that are not needed\n",
    "df = df.drop('o_clerk', 'o_comment')"
   ]
  },
  {
   "cell_type": "code",
   "execution_count": 0,
   "metadata": {
    "application/vnd.databricks.v1+cell": {
     "cellMetadata": {
      "byteLimit": 2048000,
      "rowLimit": 10000
     },
     "inputWidgets": {},
     "nuid": "41321670-0a3a-4ef7-92b3-904e2b5cf24d",
     "showTitle": false,
     "tableResultSettingsMap": {},
     "title": ""
    }
   },
   "outputs": [],
   "source": [
    "# Rename a column\n",
    "new_df = df.withColumnRenamed('o_orderdate', 'order_date')\n",
    "\n",
    "# Display the resulting DataFrame\n",
    "new_df.display()"
   ]
  },
  {
   "cell_type": "code",
   "execution_count": 0,
   "metadata": {
    "application/vnd.databricks.v1+cell": {
     "cellMetadata": {
      "byteLimit": 2048000,
      "rowLimit": 10000
     },
     "inputWidgets": {},
     "nuid": "b80d7a5d-d15d-448a-a2e0-0f68a9f6621e",
     "showTitle": false,
     "tableResultSettingsMap": {},
     "title": ""
    }
   },
   "outputs": [],
   "source": [
    "# Keep only the columns that also exist in customer_df\n",
    "new_df = df.select(*(F.col(c) for c in customer_df.columns if c in df.columns))\n",
    "\n",
    "# Display the resulting DataFrame\n",
    "new_df.display()"
   ]
  },
  {
   "cell_type": "code",
   "execution_count": 0,
   "metadata": {
    "application/vnd.databricks.v1+cell": {
     "cellMetadata": {
      "byteLimit": 2048000,
      "rowLimit": 10000
     },
     "inputWidgets": {},
     "nuid": "3b2ea2cb-2bbf-4b2d-bb14-29a9d372a226",
     "showTitle": false,
     "tableResultSettingsMap": {},
     "title": ""
    }
   },
   "outputs": [],
   "source": [
    "# Batch Rename/Clean Columns\n",
    "new_df = df\n",
    "for col_name in df.columns:\n",
    "    new_col_name = col_name.lower().replace(' ', '_').replace('-', '_')\n",
    "    new_df = new_df.withColumnRenamed(col_name, new_col_name)\n",
    "\n",
    "# Display the resulting DataFrame\n",
    "new_df.display()"
   ]
  },
  {
   "cell_type": "markdown",
   "metadata": {
    "application/vnd.databricks.v1+cell": {
     "cellMetadata": {},
     "inputWidgets": {},
     "nuid": "8caadc83-f362-46d1-a638-4015469e15c6",
     "showTitle": false,
     "tableResultSettingsMap": {},
     "title": ""
    }
   },
   "source": [
    "### Casting & Coalescing Null Values & Duplicates"
   ]
  },
  {
   "cell_type": "code",
   "execution_count": 0,
   "metadata": {
    "application/vnd.databricks.v1+cell": {
     "cellMetadata": {
      "byteLimit": 2048000,
      "rowLimit": 10000
     },
     "inputWidgets": {},
     "nuid": "f4ba7d40-05ad-490c-b7b6-ef70327e924b",
     "showTitle": false,
     "tableResultSettingsMap": {},
     "title": ""
    }
   },
   "outputs": [],
   "source": [
    "# Cast o_totalprice to DoubleType\n",
    "new_df = df.withColumn('o_totalprice', df.o_totalprice.cast(T.DoubleType()))\n",
    "\n",
    "# Display the resulting DataFrame\n",
    "new_df.display()"
   ]
  },
  {
   "cell_type": "code",
   "execution_count": 0,
   "metadata": {
    "application/vnd.databricks.v1+cell": {
     "cellMetadata": {
      "byteLimit": 2048000,
      "rowLimit": 10000
     },
     "inputWidgets": {},
     "nuid": "68f34ab0-b048-4574-bd33-00925911f543",
     "showTitle": false,
     "tableResultSettingsMap": {},
     "title": ""
    }
   },
   "outputs": [],
   "source": [
    "# Replace nulls in specific columns\n",
    "new_df = df.fillna({\n",
    "    'o_clerk': 'UNKNOWN',\n",
    "    'o_totalprice': 0,\n",
    "})\n",
    "\n",
    "# Display the resulting DataFrame\n",
    "new_df.display()"
   ]
  },
  {
   "cell_type": "code",
   "execution_count": 0,
   "metadata": {
    "application/vnd.databricks.v1+cell": {
     "cellMetadata": {
      "byteLimit": 2048000,
      "rowLimit": 10000
     },
     "inputWidgets": {},
     "nuid": "447b6a61-aee4-410d-8f0c-03b39cc63412",
     "showTitle": false,
     "tableResultSettingsMap": {},
     "title": ""
    }
   },
   "outputs": [],
   "source": [
    "# Take the first non-null value among o_clerk, o_comment, or fallback to 'N/A'\n",
    "new_df = df.withColumn('first_nonnull_field', F.coalesce(df.o_clerk, df.o_comment, F.lit('N/A')))\n",
    "\n",
    "# Display the resulting DataFrame\n",
    "new_df.display()"
   ]
  },
  {
   "cell_type": "code",
   "execution_count": 0,
   "metadata": {
    "application/vnd.databricks.v1+cell": {
     "cellMetadata": {
      "byteLimit": 2048000,
      "rowLimit": 10000
     },
     "inputWidgets": {},
     "nuid": "780033ee-7639-47b8-afed-bb4ff22955d0",
     "showTitle": false,
     "tableResultSettingsMap": {},
     "title": ""
    }
   },
   "outputs": [],
   "source": [
    "# Drop duplicate rows in a dataset (distinct)\n",
    "new_df = df.dropDuplicates() # or\n",
    "new_df = df.distinct()\n",
    "\n",
    "# Display the resulting DataFrame\n",
    "new_df.display()"
   ]
  },
  {
   "cell_type": "code",
   "execution_count": 0,
   "metadata": {
    "application/vnd.databricks.v1+cell": {
     "cellMetadata": {
      "byteLimit": 2048000,
      "rowLimit": 10000
     },
     "inputWidgets": {},
     "nuid": "122ca238-ff4a-41ee-b264-c8f34ab1aa49",
     "showTitle": false,
     "tableResultSettingsMap": {},
     "title": ""
    }
   },
   "outputs": [],
   "source": [
    "# Drop duplicate rows based on order date and customer key\n",
    "new_df = df.dropDuplicates(['o_orderdate', 'o_custkey'])\n",
    "\n",
    "# Display the resulting DataFrame\n",
    "new_df.display()"
   ]
  },
  {
   "cell_type": "markdown",
   "metadata": {
    "application/vnd.databricks.v1+cell": {
     "cellMetadata": {},
     "inputWidgets": {},
     "nuid": "ac3359ef-348b-426e-9a9b-56ed5916ae12",
     "showTitle": false,
     "tableResultSettingsMap": {},
     "title": ""
    }
   },
   "source": [
    "### String Operations"
   ]
  },
  {
   "cell_type": "code",
   "execution_count": 0,
   "metadata": {
    "application/vnd.databricks.v1+cell": {
     "cellMetadata": {
      "byteLimit": 2048000,
      "rowLimit": 10000
     },
     "inputWidgets": {},
     "nuid": "95476474-71b0-46cb-a179-d6aeaecb7886",
     "showTitle": false,
     "tableResultSettingsMap": {},
     "title": ""
    }
   },
   "outputs": [],
   "source": [
    "# Filter rows where o_clerk contains the letter 'o'\n",
    "new_df = df.filter(df.o_clerk.contains('o'))\n",
    "\n",
    "# Display the resulting DataFrame\n",
    "new_df.display()"
   ]
  },
  {
   "cell_type": "code",
   "execution_count": 0,
   "metadata": {
    "application/vnd.databricks.v1+cell": {
     "cellMetadata": {
      "byteLimit": 2048000,
      "rowLimit": 10000
     },
     "inputWidgets": {},
     "nuid": "770ad74b-5379-4460-95ca-74556732d8ad",
     "showTitle": false,
     "tableResultSettingsMap": {},
     "title": ""
    }
   },
   "outputs": [],
   "source": [
    "# Filter rows where o_clerk starts with 'Al'\n",
    "new_df = df.filter(df.o_orderpriority.startswith('1-U'))\n",
    "\n",
    "# Display the resulting DataFrame\n",
    "new_df.display()"
   ]
  },
  {
   "cell_type": "code",
   "execution_count": 0,
   "metadata": {
    "application/vnd.databricks.v1+cell": {
     "cellMetadata": {
      "byteLimit": 2048000,
      "rowLimit": 10000
     },
     "inputWidgets": {},
     "nuid": "c845a5cb-8184-4b4c-ac7e-99d2ee874877",
     "showTitle": false,
     "tableResultSettingsMap": {},
     "title": ""
    }
   },
   "outputs": [],
   "source": [
    "# Filter rows where o_clerk ends with 'ice'\n",
    "new_df = df.filter(df.o_clerk.endswith('39'))\n",
    "\n",
    "# Display the resulting DataFrame\n",
    "new_df.display()"
   ]
  },
  {
   "cell_type": "code",
   "execution_count": 0,
   "metadata": {
    "application/vnd.databricks.v1+cell": {
     "cellMetadata": {},
     "inputWidgets": {},
     "nuid": "b6d6af2c-2fe5-4579-99c2-30fba1d57301",
     "showTitle": false,
     "tableResultSettingsMap": {},
     "title": ""
    }
   },
   "outputs": [],
   "source": [
    "# Filter rows where o_clerk is null\n",
    "new_df = df.filter(df.o_clerk.isNull())\n",
    "\n",
    "# Display the resulting DataFrame\n",
    "new_df.display()"
   ]
  },
  {
   "cell_type": "code",
   "execution_count": 0,
   "metadata": {
    "application/vnd.databricks.v1+cell": {
     "cellMetadata": {},
     "inputWidgets": {},
     "nuid": "c1270d23-a800-44a6-a4a3-4a4d42772355",
     "showTitle": false,
     "tableResultSettingsMap": {},
     "title": ""
    }
   },
   "outputs": [],
   "source": [
    "# Filter rows where o_comment is not null\n",
    "new_df = df.filter(df.o_comment.isNotNull())\n",
    "\n",
    "# Display the resulting DataFrame\n",
    "new_df.display()"
   ]
  },
  {
   "cell_type": "code",
   "execution_count": 0,
   "metadata": {
    "application/vnd.databricks.v1+cell": {
     "cellMetadata": {},
     "inputWidgets": {},
     "nuid": "59209f66-f540-45b0-a275-d21d1ed065c5",
     "showTitle": false,
     "tableResultSettingsMap": {},
     "title": ""
    }
   },
   "outputs": [],
   "source": [
    "# Filter rows where o_clerk starts with 'Al' using SQL LIKE pattern\n",
    "new_df = df.filter(df.o_clerk.like('Al%'))\n",
    "\n",
    "# Display the resulting DataFrame\n",
    "new_df.display()"
   ]
  },
  {
   "cell_type": "code",
   "execution_count": 0,
   "metadata": {
    "application/vnd.databricks.v1+cell": {
     "cellMetadata": {},
     "inputWidgets": {},
     "nuid": "23b56547-be05-40d8-8f97-d3db3d34e256",
     "showTitle": false,
     "tableResultSettingsMap": {},
     "title": ""
    }
   },
   "outputs": [],
   "source": [
    "# Filter rows where o_clerk ends with 'ICE' using regex\n",
    "new_df = df.filter(df.o_clerk.rlike('[A-Z]*ICE$'))\n",
    "\n",
    "# Display the resulting DataFrame\n",
    "new_df.display()"
   ]
  },
  {
   "cell_type": "code",
   "execution_count": 0,
   "metadata": {
    "application/vnd.databricks.v1+cell": {
     "cellMetadata": {},
     "inputWidgets": {},
     "nuid": "d7541f2c-a72f-4ac4-870a-e872fe7ce2c9",
     "showTitle": false,
     "tableResultSettingsMap": {},
     "title": ""
    }
   },
   "outputs": [],
   "source": [
    "# Filter rows where o_clerk is in the given list\n",
    "new_df = df.filter(df.o_clerk.isin('Clerk#000000001', 'Clerk#000000002'))\n",
    "\n",
    "# Display the resulting DataFrame\n",
    "new_df.display()"
   ]
  },
  {
   "cell_type": "markdown",
   "metadata": {
    "application/vnd.databricks.v1+cell": {
     "cellMetadata": {},
     "inputWidgets": {},
     "nuid": "d9bddb02-293e-4981-8823-7083533dad87",
     "showTitle": false,
     "tableResultSettingsMap": {},
     "title": ""
    }
   },
   "source": [
    "### String Functions"
   ]
  },
  {
   "cell_type": "code",
   "execution_count": 0,
   "metadata": {
    "application/vnd.databricks.v1+cell": {
     "cellMetadata": {},
     "inputWidgets": {},
     "nuid": "5f435398-f19f-4ad2-80ab-525433468bec",
     "showTitle": false,
     "tableResultSettingsMap": {},
     "title": ""
    }
   },
   "outputs": [],
   "source": [
    "# Extract first 3 characters of o_orderpriority as short_priority\n",
    "new_df = df.withColumn('short_priority', df.o_orderpriority.substr(0, 3))\n",
    "\n",
    "# Display the resulting DataFrame\n",
    "new_df.display()"
   ]
  },
  {
   "cell_type": "code",
   "execution_count": 0,
   "metadata": {
    "application/vnd.databricks.v1+cell": {
     "cellMetadata": {
      "byteLimit": 2048000,
      "rowLimit": 10000
     },
     "inputWidgets": {},
     "nuid": "5314ec8d-e0f3-44c0-a712-208b26f4e220",
     "showTitle": false,
     "tableResultSettingsMap": {},
     "title": ""
    }
   },
   "outputs": [],
   "source": [
    "# Trim whitespace from o_clerk\n",
    "new_df = df.withColumn('o_clerk', F.trim(df.o_clerk))\n",
    "\n",
    "# Display the resulting DataFrame\n",
    "new_df.display()"
   ]
  },
  {
   "cell_type": "code",
   "execution_count": 0,
   "metadata": {
    "application/vnd.databricks.v1+cell": {
     "cellMetadata": {
      "byteLimit": 2048000,
      "rowLimit": 10000
     },
     "inputWidgets": {},
     "nuid": "48db4e88-71c9-412e-b1df-9ee147f5d0b0",
     "showTitle": false,
     "tableResultSettingsMap": {},
     "title": ""
    }
   },
   "outputs": [],
   "source": [
    "# Left Pad - F.lpad(col, len, pad)\n",
    "# Right Pad - F.rpad(col, len, pad)\n",
    "new_df = df.withColumn('padded_orderpriority', F.rpad(df.o_orderpriority, 15, '-'))\n",
    "\n",
    "# Display the resulting DataFrame\n",
    "new_df.display()"
   ]
  },
  {
   "cell_type": "code",
   "execution_count": 0,
   "metadata": {
    "application/vnd.databricks.v1+cell": {
     "cellMetadata": {},
     "inputWidgets": {},
     "nuid": "0ca22209-b5c5-4f42-9972-2ef178d3d216",
     "showTitle": false,
     "tableResultSettingsMap": {},
     "title": ""
    }
   },
   "outputs": [],
   "source": [
    "# Left Trim - F.ltrim(col)\n",
    "# Right Trim - F.rtrim(col)\n",
    "new_df = df.withColumn('o_clerk', F.ltrim(F.col('o_clerk')))\n",
    "\n",
    "# Display the resulting DataFrame\n",
    "new_df.display()"
   ]
  },
  {
   "cell_type": "code",
   "execution_count": 0,
   "metadata": {
    "application/vnd.databricks.v1+cell": {
     "cellMetadata": {},
     "inputWidgets": {},
     "nuid": "f401680c-f211-4e9c-9b88-6bc1071864f1",
     "showTitle": false,
     "tableResultSettingsMap": {},
     "title": ""
    }
   },
   "outputs": [],
   "source": [
    "# Concatenate - F.concat(*cols)\n",
    "new_df = df.withColumn('summary_label', F.concat(F.col('o_orderpriority'), F.lit(' '), F.col('o_orderstatus')))\n",
    "\n",
    "# Display the resulting DataFrame\n",
    "new_df.display()"
   ]
  },
  {
   "cell_type": "code",
   "execution_count": 0,
   "metadata": {
    "application/vnd.databricks.v1+cell": {
     "cellMetadata": {},
     "inputWidgets": {},
     "nuid": "190ae39a-2645-4a8e-a25d-7d8e71c5ff50",
     "showTitle": false,
     "tableResultSettingsMap": {},
     "title": ""
    }
   },
   "outputs": [],
   "source": [
    "# Concatenate with Separator/Delimiter - F.concat_ws(delimiter, *cols)\n",
    "new_df = df.withColumn('summary_label', F.concat_ws('-', F.col('o_orderpriority'), F.col('o_orderstatus')))\n",
    "\n",
    "# Display the resulting DataFrame\n",
    "new_df.display()"
   ]
  },
  {
   "cell_type": "code",
   "execution_count": 0,
   "metadata": {
    "application/vnd.databricks.v1+cell": {
     "cellMetadata": {},
     "inputWidgets": {},
     "nuid": "7ef96c17-53be-45a0-a96c-eaf36f4a8cc3",
     "showTitle": false,
     "tableResultSettingsMap": {},
     "title": ""
    }
   },
   "outputs": [],
   "source": [
    "# Replace '0F1...' patterns in o_orderstatus with '1F1-...' using regex\n",
    "new_df = df.withColumn('o_orderstatus', F.regexp_replace(F.col('o_orderstatus'), '0F1(.*)', '1F1-\\\\1'))\n",
    "\n",
    "# Display the resulting DataFrame\n",
    "new_df.display()"
   ]
  },
  {
   "cell_type": "markdown",
   "metadata": {
    "application/vnd.databricks.v1+cell": {
     "cellMetadata": {},
     "inputWidgets": {},
     "nuid": "268ce2c4-6387-410f-ae76-1a9b713e2919",
     "showTitle": false,
     "tableResultSettingsMap": {},
     "title": ""
    }
   },
   "source": [
    "### Number Operations"
   ]
  },
  {
   "cell_type": "code",
   "execution_count": 0,
   "metadata": {
    "application/vnd.databricks.v1+cell": {
     "cellMetadata": {},
     "inputWidgets": {},
     "nuid": "34431e5f-ad3c-4c7f-9856-35ad2ebbf17f",
     "showTitle": false,
     "tableResultSettingsMap": {},
     "title": ""
    }
   },
   "outputs": [],
   "source": [
    "# Round o_totalprice to 0 decimal places\n",
    "new_df = df.withColumn('o_totalprice', F.round(F.col('o_totalprice'), 0))\n",
    "\n",
    "# Display the resulting DataFrame\n",
    "new_df.display()"
   ]
  },
  {
   "cell_type": "code",
   "execution_count": 0,
   "metadata": {
    "application/vnd.databricks.v1+cell": {
     "cellMetadata": {},
     "inputWidgets": {},
     "nuid": "fb16b020-7e6c-4065-87e2-2f0aa25945e4",
     "showTitle": false,
     "tableResultSettingsMap": {},
     "title": ""
    }
   },
   "outputs": [],
   "source": [
    "# Apply floor to o_totalprice\n",
    "new_df = df.withColumn('o_totalprice', F.floor(F.col('o_totalprice')))\n",
    "\n",
    "# Display the resulting DataFrame\n",
    "new_df.display()"
   ]
  },
  {
   "cell_type": "code",
   "execution_count": 0,
   "metadata": {
    "application/vnd.databricks.v1+cell": {
     "cellMetadata": {},
     "inputWidgets": {},
     "nuid": "a6967d59-64eb-44f2-99ed-fb9b875763cb",
     "showTitle": false,
     "tableResultSettingsMap": {},
     "title": ""
    }
   },
   "outputs": [],
   "source": [
    "# Ceiling - F.ceil(col)\n",
    "df = df.withColumn('price', F.ceil('price'))"
   ]
  },
  {
   "cell_type": "code",
   "execution_count": 0,
   "metadata": {
    "application/vnd.databricks.v1+cell": {
     "cellMetadata": {},
     "inputWidgets": {},
     "nuid": "72955871-fbf2-4801-a13e-35199d0be40c",
     "showTitle": false,
     "tableResultSettingsMap": {},
     "title": ""
    }
   },
   "outputs": [],
   "source": [
    "# Get absolute value of o_totalprice\n",
    "new_df = df.withColumn('o_totalprice', F.abs(F.col('o_totalprice')))\n",
    "\n",
    "# Display the resulting DataFrame\n",
    "new_df.display()"
   ]
  },
  {
   "cell_type": "markdown",
   "metadata": {
    "application/vnd.databricks.v1+cell": {
     "cellMetadata": {},
     "inputWidgets": {},
     "nuid": "d877bdb2-db9b-4a8d-bde8-023113825221",
     "showTitle": false,
     "tableResultSettingsMap": {},
     "title": ""
    }
   },
   "source": [
    "### Date & Timestamp Operations"
   ]
  },
  {
   "cell_type": "code",
   "execution_count": 0,
   "metadata": {
    "application/vnd.databricks.v1+cell": {
     "cellMetadata": {},
     "inputWidgets": {},
     "nuid": "354626d4-8392-42a5-82eb-c673e972a0cf",
     "showTitle": false,
     "tableResultSettingsMap": {},
     "title": ""
    }
   },
   "outputs": [],
   "source": [
    "# Add a column with the current date\n",
    "new_df = df.withColumn('current_date', F.current_date())\n",
    "\n",
    "# Display the resulting DataFrame\n",
    "new_df.display()"
   ]
  },
  {
   "cell_type": "code",
   "execution_count": 0,
   "metadata": {
    "application/vnd.databricks.v1+cell": {
     "cellMetadata": {
      "byteLimit": 2048000,
      "rowLimit": 10000
     },
     "inputWidgets": {},
     "nuid": "661e39b8-7ec8-4a6c-9700-385b0f1859b5",
     "showTitle": false,
     "tableResultSettingsMap": {},
     "title": ""
    }
   },
   "outputs": [],
   "source": [
    "# Convert o_orderdate from string to date\n",
    "new_df = df.withColumn('o_orderdate', F.to_date(F.col('o_orderdate'), 'yyyy-MM-dd'))\n",
    "\n",
    "# Display the resulting DataFrame\n",
    "new_df.display()"
   ]
  },
  {
   "cell_type": "code",
   "execution_count": 0,
   "metadata": {
    "application/vnd.databricks.v1+cell": {
     "cellMetadata": {
      "byteLimit": 2048000,
      "rowLimit": 10000
     },
     "inputWidgets": {},
     "nuid": "d0506550-15d2-4e52-b493-8f2cd3d7af9a",
     "showTitle": false,
     "tableResultSettingsMap": {},
     "title": ""
    }
   },
   "outputs": [],
   "source": [
    "# Convert o_orderdate string to timestamp\n",
    "new_df = df.withColumn('o_orderdate', F.to_timestamp(F.col('o_orderdate'), 'yyyy-MM-dd HH:mm:ss'))\n",
    "\n",
    "# Display the resulting DataFrame\n",
    "new_df.display()"
   ]
  },
  {
   "cell_type": "code",
   "execution_count": 0,
   "metadata": {
    "application/vnd.databricks.v1+cell": {
     "cellMetadata": {
      "byteLimit": 2048000,
      "rowLimit": 10000
     },
     "inputWidgets": {},
     "nuid": "85c8b7ce-a321-4890-a3e2-68249e489833",
     "showTitle": false,
     "tableResultSettingsMap": {},
     "title": ""
    }
   },
   "outputs": [],
   "source": [
    "# Get year from date:       F.year(col)\n",
    "# Get month from date:      F.month(col)\n",
    "# Get day from date:        F.dayofmonth(col)\n",
    "# Get hour from date:       F.hour(col)\n",
    "# Get minute from date:     F.minute(col)\n",
    "# Get second from date:     F.second(col)\n",
    "# Filter rows where the order year is 1996\n",
    "new_df = df.filter(F.year(F.col('o_orderdate')) == F.lit(1996))\n",
    "\n",
    "# Display the resulting DataFrame\n",
    "new_df.display()"
   ]
  },
  {
   "cell_type": "code",
   "execution_count": 0,
   "metadata": {
    "application/vnd.databricks.v1+cell": {
     "cellMetadata": {},
     "inputWidgets": {},
     "nuid": "eebe680a-984e-4292-abae-eea7c11f8448",
     "showTitle": false,
     "tableResultSettingsMap": {},
     "title": ""
    }
   },
   "outputs": [],
   "source": [
    "# Add and subtract 3 days from o_orderdate\n",
    "new_df = df.withColumn('three_days_after', F.date_add(F.col('o_orderdate'), 3)) \\\n",
    "           .withColumn('three_days_before', F.date_sub(F.col('o_orderdate'), 3))\n",
    "\n",
    "# Display the resulting DataFrame\n",
    "new_df.display()"
   ]
  },
  {
   "cell_type": "code",
   "execution_count": 0,
   "metadata": {
    "application/vnd.databricks.v1+cell": {
     "cellMetadata": {
      "byteLimit": 2048000,
      "rowLimit": 10000
     },
     "inputWidgets": {},
     "nuid": "6499aa71-7c2e-44ca-a9a0-c9b644cddb36",
     "showTitle": false,
     "tableResultSettingsMap": {},
     "title": ""
    }
   },
   "outputs": [],
   "source": [
    "# Add one month to o_orderdate\n",
    "new_df = df.withColumn('next_month', F.add_months(F.col('o_orderdate'), 1))\n",
    "\n",
    "# Display the resulting DataFrame\n",
    "new_df.display()"
   ]
  },
  {
   "cell_type": "code",
   "execution_count": 0,
   "metadata": {
    "application/vnd.databricks.v1+cell": {
     "cellMetadata": {},
     "inputWidgets": {},
     "nuid": "beb315a8-d123-47bf-bbc4-8a5799efb787",
     "showTitle": false,
     "tableResultSettingsMap": {},
     "title": ""
    }
   },
   "outputs": [],
   "source": [
    "# Assuming df is a joined orders + lineitem DataFrame\n",
    "new_df = df.withColumn('days_between', F.datediff(F.col('l_shipdate'), F.col('o_orderdate')))\n",
    "\n",
    "# Display the resulting DataFrame\n",
    "new_df.display()"
   ]
  },
  {
   "cell_type": "code",
   "execution_count": 0,
   "metadata": {
    "application/vnd.databricks.v1+cell": {
     "cellMetadata": {},
     "inputWidgets": {},
     "nuid": "3b94d7dc-cc86-4981-ad4d-6930935b7698",
     "showTitle": false,
     "tableResultSettingsMap": {},
     "title": ""
    }
   },
   "outputs": [],
   "source": [
    "# Assuming df is a joined orders + lineitem DataFrame\n",
    "new_df = df.withColumn('months_between', F.months_between(F.col('l_shipdate'), F.col('o_orderdate')))\n",
    "\n",
    "# Display the resulting DataFrame\n",
    "new_df.display()"
   ]
  },
  {
   "cell_type": "code",
   "execution_count": 0,
   "metadata": {
    "application/vnd.databricks.v1+cell": {
     "cellMetadata": {
      "byteLimit": 2048000,
      "rowLimit": 10000
     },
     "inputWidgets": {},
     "nuid": "fa63266a-2e12-4a50-b31a-65245da30aad",
     "showTitle": false,
     "tableResultSettingsMap": {},
     "title": ""
    }
   },
   "outputs": [],
   "source": [
    "# Filter orders where o_orderdate is between two dates\n",
    "new_df = df.filter(\n",
    "    (F.col('o_orderdate') >= F.lit('1995-01-01')) &\n",
    "    (F.col('o_orderdate') <= F.lit('1996-12-31'))\n",
    ")\n",
    "\n",
    "# Display the resulting DataFrame\n",
    "new_df.display()"
   ]
  },
  {
   "cell_type": "markdown",
   "metadata": {
    "application/vnd.databricks.v1+cell": {
     "cellMetadata": {},
     "inputWidgets": {},
     "nuid": "2a92fbc1-cdde-4e52-9e33-8e6fd895d826",
     "showTitle": false,
     "tableResultSettingsMap": {},
     "title": ""
    }
   },
   "source": [
    "### Aggregation Operations"
   ]
  },
  {
   "cell_type": "code",
   "execution_count": 0,
   "metadata": {
    "application/vnd.databricks.v1+cell": {
     "cellMetadata": {},
     "inputWidgets": {},
     "nuid": "3fff42dd-e0fe-4420-8daf-004b68b1fc6c",
     "showTitle": false,
     "tableResultSettingsMap": {},
     "title": ""
    }
   },
   "outputs": [],
   "source": [
    "# Row Count:                F.count()\n",
    "# Sum of Rows in Group:     F.sum(*cols)\n",
    "# Mean of Rows in Group:    F.mean(*cols)\n",
    "# Max of Rows in Group:     F.max(*cols)\n",
    "# Min of Rows in Group:     F.min(*cols)\n",
    "# First Row in Group:       F.alias(*cols)\n",
    "\n",
    "# Group by order priority and compute max total price\n",
    "new_df = df.groupBy('o_orderpriority').agg(F.max('o_totalprice').alias('max_price_by_priority'))\n",
    "\n",
    "# Display the resulting DataFrame\n",
    "new_df.display()"
   ]
  },
  {
   "cell_type": "code",
   "execution_count": 0,
   "metadata": {
    "application/vnd.databricks.v1+cell": {
     "cellMetadata": {
      "byteLimit": 2048000,
      "rowLimit": 10000
     },
     "inputWidgets": {},
     "nuid": "45c20815-e1a9-481a-97fa-bbbbabaf4c71",
     "showTitle": false,
     "tableResultSettingsMap": {},
     "title": ""
    }
   },
   "outputs": [],
   "source": [
    "# Collect a Set of all Rows in Group:       F.collect_set(col)\n",
    "# Collect a List of all Rows in Group:      F.collect_list(col)\n",
    "# Group by order priority and collect unique clerk names into a set\n",
    "new_df = df.groupBy('o_orderpriority').agg(F.collect_set('o_clerk').alias('clerks_per_priority'))\n",
    "\n",
    "# Display the resulting DataFrame\n",
    "new_df.display()"
   ]
  },
  {
   "cell_type": "code",
   "execution_count": 0,
   "metadata": {
    "application/vnd.databricks.v1+cell": {
     "cellMetadata": {
      "byteLimit": 2048000,
      "rowLimit": 10000
     },
     "inputWidgets": {},
     "nuid": "7c1347e3-987f-4278-8d69-0e064c083e8a",
     "showTitle": false,
     "tableResultSettingsMap": {},
     "title": ""
    }
   },
   "outputs": [],
   "source": [
    "# Just take the lastest row for each combination (Window Functions)\n",
    "from pyspark.sql import Window as W\n",
    "\n",
    "# Define a window partitioned by customer and order status, ordered by latest order date\n",
    "window = W.partitionBy(\"o_custkey\", \"o_orderstatus\").orderBy(F.desc(\"o_orderdate\"))\n",
    "\n",
    "# Add row_number, filter for latest per group\n",
    "new_df = df.withColumn(\"row_number\", F.row_number().over(window)) \\\n",
    "           .filter(F.col(\"row_number\") == 1)\n",
    "\n",
    "# Display the resulting DataFrame\n",
    "new_df.display()"
   ]
  }
 ],
 "metadata": {
  "application/vnd.databricks.v1+notebook": {
   "computePreferences": null,
   "dashboards": [],
   "environmentMetadata": {
    "base_environment": "",
    "environment_version": "2"
   },
   "inputWidgetPreferences": null,
   "language": "python",
   "notebookMetadata": {
    "mostRecentlyExecutedCommandWithImplicitDF": {
     "commandId": 2013334455467941,
     "dataframes": [
      "_sqldf"
     ]
    },
    "pythonIndentUnit": 2
   },
   "notebookName": "pyspark_examples",
   "widgets": {}
  },
  "language_info": {
   "name": "python"
  }
 },
 "nbformat": 4,
 "nbformat_minor": 0
}
