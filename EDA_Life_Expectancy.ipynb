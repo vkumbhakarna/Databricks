{
 "cells": [
  {
   "cell_type": "markdown",
   "metadata": {
    "application/vnd.databricks.v1+cell": {
     "cellMetadata": {},
     "inputWidgets": {},
     "nuid": "2a91f84e-2bb4-4368-8062-01d23037fdb5",
     "showTitle": false,
     "tableResultSettingsMap": {},
     "title": ""
    }
   },
   "source": [
    "# EDA Life Expectancy"
   ]
  },
  {
   "cell_type": "code",
   "execution_count": 0,
   "metadata": {
    "application/vnd.databricks.v1+cell": {
     "cellMetadata": {
      "byteLimit": 2048000,
      "rowLimit": 10000
     },
     "inputWidgets": {},
     "nuid": "d1acb3d0-c28b-4499-a7b4-2d9dad4e81d8",
     "showTitle": false,
     "tableResultSettingsMap": {},
     "title": ""
    }
   },
   "outputs": [],
   "source": [
    "import pandas as pd \n",
    "\n",
    "df = pd.read_csv(\"/Volumes/learning/data/raw/Life Expectancy Data.csv\")\n",
    "\n",
    "display(df)                 "
   ]
  },
  {
   "cell_type": "code",
   "execution_count": 0,
   "metadata": {
    "application/vnd.databricks.v1+cell": {
     "cellMetadata": {
      "byteLimit": 2048000,
      "rowLimit": 10000
     },
     "inputWidgets": {},
     "nuid": "1027cbeb-b9b2-4137-a66c-e3cc3123a6f3",
     "showTitle": false,
     "tableResultSettingsMap": {},
     "title": ""
    }
   },
   "outputs": [],
   "source": [
    "df = spark.read.format(\"csv\").option(\"header\", \"true\").option(\"inferSchema\", \"true\").load(\"/Volumes/learning/data/raw/Life Expectancy Data.csv\")"
   ]
  },
  {
   "cell_type": "code",
   "execution_count": 0,
   "metadata": {
    "application/vnd.databricks.v1+cell": {
     "cellMetadata": {
      "byteLimit": 2048000,
      "rowLimit": 10000
     },
     "inputWidgets": {},
     "nuid": "94ffbf4c-e312-4b5e-95ee-755f4c5e0a39",
     "showTitle": false,
     "tableResultSettingsMap": {},
     "title": ""
    }
   },
   "outputs": [],
   "source": [
    "df.columns"
   ]
  },
  {
   "cell_type": "code",
   "execution_count": 0,
   "metadata": {
    "application/vnd.databricks.v1+cell": {
     "cellMetadata": {
      "byteLimit": 2048000,
      "rowLimit": 10000
     },
     "inputWidgets": {},
     "nuid": "b183162e-9270-4bdc-aa57-7805ab26c453",
     "showTitle": false,
     "tableResultSettingsMap": {},
     "title": ""
    }
   },
   "outputs": [],
   "source": [
    "df = df.withColumnRenamed(\"Life expectancy \", \"LifeExpectancy\").withColumnRenamed(\"Adult Mortality\", \"AdultMortality\").withColumnRenamed(\"infant deaths\", \"InfantDeaths\").withColumnRenamed(\"percentage expenditure\", \"PercentageExpenditure\").withColumnRenamed(\"Hepatitis B\", \"HepatitisB\").withColumnRenamed(\" BMI \", \"BMI\").withColumnRenamed(\"under-five deaths \", \"Under5YearDeaths\").withColumnRenamed(\"Total expenditure\", \"TotalExpenditure\").withColumnRenamed(\" HIV/AIDS\", \"HIV_AIDS\").withColumnRenamed(\" thinness  1-19 years\", \"Thinness1to19Years\").withColumnRenamed(\" thinness 5-9 years\", \"Thinness5to9Years\").withColumnRenamed(\"Income composition of resources\", \"IncomeCompositionOfResources\").withColumnRenamed(\"Measles \", \"Measles\").withColumnRenamed(\"Diphtheria \", \"Diphtheria\")"
   ]
  },
  {
   "cell_type": "code",
   "execution_count": 0,
   "metadata": {
    "application/vnd.databricks.v1+cell": {
     "cellMetadata": {
      "byteLimit": 2048000,
      "rowLimit": 10000
     },
     "inputWidgets": {},
     "nuid": "03d8eac9-113b-4f2f-a22c-14afe56766cf",
     "showTitle": false,
     "tableResultSettingsMap": {},
     "title": ""
    }
   },
   "outputs": [],
   "source": [
    "\n",
    "df.write.mode(\"overwrite\").saveAsTable(\"learning.data.life_expectancy\")"
   ]
  }
 ],
 "metadata": {
  "application/vnd.databricks.v1+notebook": {
   "computePreferences": null,
   "dashboards": [],
   "environmentMetadata": {
    "base_environment": "",
    "environment_version": "2"
   },
   "inputWidgetPreferences": null,
   "language": "python",
   "notebookMetadata": {
    "pythonIndentUnit": 4
   },
   "notebookName": "EDA_Life_Expectancy",
   "widgets": {}
  },
  "language_info": {
   "name": "python"
  }
 },
 "nbformat": 4,
 "nbformat_minor": 0
}
