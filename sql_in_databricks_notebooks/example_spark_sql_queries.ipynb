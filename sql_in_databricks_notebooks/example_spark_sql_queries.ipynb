{
 "cells": [
  {
   "cell_type": "markdown",
   "metadata": {
    "application/vnd.databricks.v1+cell": {
     "cellMetadata": {
      "byteLimit": 2048000,
      "rowLimit": 10000
     },
     "inputWidgets": {},
     "nuid": "8e518882-dbd0-4386-bb49-0e61506880b5",
     "showTitle": false,
     "tableResultSettingsMap": {},
     "title": ""
    }
   },
   "source": [
    "# Spark SQL Quick Reference Notebook\n",
    "\n",
    "> **Note:** All examples in this notebook use the TPCH dataset stored in `samples.tpch`.\n",
    "\n",
    "Welcome to the **SAS-to-Databricks Quick Reference** notebook! This guide is designed for SAS users who are getting started with Databricks SQL and Spark, and it walks you through the most common data-manipulation tasks you already know from PROC SQL and Data Step—now in the Databricks environment. Inside, you’ll find:\n",
    "\n",
    "- **Aggregations**: COUNT, SUM, AVG and more  \n",
    "- **Basic Data Cleansing**: null handling, trimming, case conversion  \n",
    "- **Common Date Functions**: date_add, datediff, date_trunc, and parsing/formatting  \n",
    "- **Common Table Expressions (CTEs)**: break complex logic into modular steps\n",
    "- **Joins**: INNER, LEFT, RIGHT, FULL, CROSS, LEFT-ANTI, and self-joins  \n",
    "- **Temporary Views**: create temporary views for interactive analysis and intermediate steps\n",
    "- **Table Management**: CREATE, ALTER, and DROP managed tables  \n",
    "- **Window Functions**: ROW_NUMBER, RANK, LAG/LEAD "
   ]
  },
  {
   "cell_type": "markdown",
   "metadata": {
    "application/vnd.databricks.v1+cell": {
     "cellMetadata": {
      "byteLimit": 2048000,
      "rowLimit": 10000
     },
     "inputWidgets": {},
     "nuid": "c6560104-bafe-41c8-8306-952d6fa772a6",
     "showTitle": false,
     "tableResultSettingsMap": {},
     "title": ""
    }
   },
   "source": [
    "# Example Aggregations"
   ]
  },
  {
   "cell_type": "code",
   "execution_count": 0,
   "metadata": {
    "application/vnd.databricks.v1+cell": {
     "cellMetadata": {
      "byteLimit": 2048000,
      "implicitDf": true,
      "rowLimit": 10000
     },
     "inputWidgets": {},
     "nuid": "d7fec2cd-7cdd-47fa-8bc3-0f0332dbe7aa",
     "showTitle": false,
     "tableResultSettingsMap": {},
     "title": ""
    }
   },
   "outputs": [],
   "source": [
    "%sql\n",
    "-- Count all orders\n",
    "SELECT COUNT(*) FROM samples.tpch.orders;"
   ]
  },
  {
   "cell_type": "code",
   "execution_count": 0,
   "metadata": {
    "application/vnd.databricks.v1+cell": {
     "cellMetadata": {
      "byteLimit": 2048000,
      "implicitDf": true,
      "rowLimit": 10000
     },
     "inputWidgets": {},
     "nuid": "a528c0a8-72b5-4b6e-8da5-5c7d76250518",
     "showTitle": false,
     "tableResultSettingsMap": {},
     "title": ""
    }
   },
   "outputs": [],
   "source": [
    "%sql\n",
    "\n",
    "-- Total revenue per customer.\n",
    "SELECT\n",
    "  o_custkey,\n",
    "  SUM(o_totalprice) AS total_revenue\n",
    "FROM samples.tpch.orders\n",
    "GROUP BY o_custkey;"
   ]
  },
  {
   "cell_type": "code",
   "execution_count": 0,
   "metadata": {
    "application/vnd.databricks.v1+cell": {
     "cellMetadata": {
      "byteLimit": 2048000,
      "implicitDf": true,
      "rowLimit": 10000
     },
     "inputWidgets": {},
     "nuid": "bea8d3c9-da69-4b41-a7cc-2de141edbad9",
     "showTitle": false,
     "tableResultSettingsMap": {},
     "title": ""
    }
   },
   "outputs": [],
   "source": [
    "%sql\n",
    "\n",
    "-- Average line‐item quantity per order.\n",
    "SELECT\n",
    "  l_orderkey,\n",
    "  AVG(l_quantity) AS avg_quantity\n",
    "FROM samples.tpch.lineitem\n",
    "GROUP BY l_orderkey;"
   ]
  },
  {
   "cell_type": "code",
   "execution_count": 0,
   "metadata": {
    "application/vnd.databricks.v1+cell": {
     "cellMetadata": {
      "byteLimit": 2048000,
      "implicitDf": true,
      "rowLimit": 10000
     },
     "inputWidgets": {},
     "nuid": "8e5c61d6-7473-4c85-ae74-8b11732d61e6",
     "showTitle": false,
     "tableResultSettingsMap": {},
     "title": ""
    }
   },
   "outputs": [],
   "source": [
    "%sql\n",
    "\n",
    "-- Count of orders per month.\n",
    "SELECT\n",
    "  date_format(o_orderdate, 'yyyy-MM') AS month,\n",
    "  COUNT(*) AS order_count\n",
    "FROM samples.tpch.orders\n",
    "GROUP BY date_format(o_orderdate, 'yyyy-MM');"
   ]
  },
  {
   "cell_type": "code",
   "execution_count": 0,
   "metadata": {
    "application/vnd.databricks.v1+cell": {
     "cellMetadata": {
      "byteLimit": 2048000,
      "implicitDf": true,
      "rowLimit": 10000
     },
     "inputWidgets": {},
     "nuid": "9e6a2c12-19c0-4541-8abc-8fc3b5855f2d",
     "showTitle": false,
     "tableResultSettingsMap": {},
     "title": ""
    }
   },
   "outputs": [],
   "source": [
    "%sql\n",
    "\n",
    "-- Distinct count of parts ordered by each customer.\n",
    "SELECT\n",
    "  o.o_custkey,\n",
    "  COUNT(DISTINCT l.l_partkey) AS unique_parts_ordered\n",
    "FROM samples.tpch.orders AS o\n",
    "JOIN samples.tpch.lineitem AS l\n",
    "  ON o.o_orderkey = l.l_orderkey\n",
    "GROUP BY o.o_custkey;"
   ]
  },
  {
   "cell_type": "code",
   "execution_count": 0,
   "metadata": {
    "application/vnd.databricks.v1+cell": {
     "cellMetadata": {
      "byteLimit": 2048000,
      "implicitDf": true,
      "rowLimit": 10000
     },
     "inputWidgets": {},
     "nuid": "27a8a2ea-fda6-4eea-b299-25244a1136c5",
     "showTitle": false,
     "tableResultSettingsMap": {},
     "title": ""
    }
   },
   "outputs": [],
   "source": [
    "%sql\n",
    "-- Total and average order value per nation.\n",
    "SELECT\n",
    "  n.n_name,\n",
    "  SUM(o.o_totalprice) AS total_rev,\n",
    "  AVG(o.o_totalprice) AS avg_rev\n",
    "FROM samples.tpch.orders AS o\n",
    "JOIN samples.tpch.customer AS c\n",
    "  ON o.o_custkey = c.c_custkey\n",
    "JOIN samples.tpch.nation AS n\n",
    "  ON c.c_nationkey = n.n_nationkey\n",
    "GROUP BY n.n_name;"
   ]
  },
  {
   "cell_type": "code",
   "execution_count": 0,
   "metadata": {
    "application/vnd.databricks.v1+cell": {
     "cellMetadata": {
      "byteLimit": 2048000,
      "implicitDf": true,
      "rowLimit": 10000
     },
     "inputWidgets": {},
     "nuid": "366e4b9e-1f5e-4898-9e8f-64e95cf9623c",
     "showTitle": false,
     "tableResultSettingsMap": {},
     "title": ""
    }
   },
   "outputs": [],
   "source": [
    "%sql\n",
    "\n",
    "-- Nations with more than 100 orders.\n",
    "SELECT\n",
    "  n.n_name,\n",
    "  COUNT(*) AS order_count\n",
    "FROM samples.tpch.orders AS o\n",
    "JOIN samples.tpch.customer AS c\n",
    "  ON o.o_custkey = c.c_custkey\n",
    "JOIN samples.tpch.nation AS n\n",
    "  ON c.c_nationkey = n.n_nationkey\n",
    "GROUP BY n.n_name\n",
    "HAVING COUNT(*) > 100;"
   ]
  },
  {
   "cell_type": "code",
   "execution_count": 0,
   "metadata": {
    "application/vnd.databricks.v1+cell": {
     "cellMetadata": {
      "byteLimit": 2048000,
      "implicitDf": true,
      "rowLimit": 10000
     },
     "inputWidgets": {},
     "nuid": "f0fffeb0-204f-4edc-8c31-958f143d3983",
     "showTitle": false,
     "tableResultSettingsMap": {},
     "title": ""
    }
   },
   "outputs": [],
   "source": [
    "%sql\n",
    "\n",
    "-- Revenue rollup by region and nation.\n",
    "SELECT\n",
    "  r.r_name,\n",
    "  n.n_name,\n",
    "  SUM(o.o_totalprice) AS revenue\n",
    "FROM samples.tpch.orders AS o\n",
    "JOIN samples.tpch.customer AS c\n",
    "  ON o.o_custkey = c.c_custkey\n",
    "JOIN samples.tpch.nation AS n\n",
    "  ON c.c_nationkey = n.n_nationkey\n",
    "JOIN samples.tpch.region AS r\n",
    "  ON n.n_regionkey = r.r_regionkey\n",
    "GROUP BY ROLLUP(r.r_name, n.n_name);\n",
    "\n"
   ]
  },
  {
   "cell_type": "code",
   "execution_count": 0,
   "metadata": {
    "application/vnd.databricks.v1+cell": {
     "cellMetadata": {
      "byteLimit": 2048000,
      "implicitDf": true,
      "rowLimit": 10000
     },
     "inputWidgets": {},
     "nuid": "b2c9086a-ba39-4ae3-8dce-0b6918075a1c",
     "showTitle": false,
     "tableResultSettingsMap": {},
     "title": ""
    }
   },
   "outputs": [],
   "source": [
    "%sql\n",
    "-- Revenue cube by region, nation, and customer. CUBE will ompute all combinations of aggregates across all three dimensions.\n",
    "SELECT\n",
    "  r.r_name,\n",
    "  n.n_name,\n",
    "  c.c_custkey,\n",
    "  SUM(o.o_totalprice) AS revenue\n",
    "FROM samples.tpch.orders AS o\n",
    "JOIN samples.tpch.customer AS c\n",
    "  ON o.o_custkey = c.c_custkey\n",
    "JOIN samples.tpch.nation AS n\n",
    "  ON c.c_nationkey = n.n_nationkey\n",
    "JOIN samples.tpch.region AS r\n",
    "  ON n.n_regionkey = r.r_regionkey\n",
    "GROUP BY CUBE(r.r_name, n.n_name, c.c_custkey);"
   ]
  },
  {
   "cell_type": "code",
   "execution_count": 0,
   "metadata": {
    "application/vnd.databricks.v1+cell": {
     "cellMetadata": {
      "byteLimit": 2048000,
      "implicitDf": true,
      "rowLimit": 10000
     },
     "inputWidgets": {},
     "nuid": "2ed16ac9-4795-40a7-980a-fe67cdba0c3d",
     "showTitle": false,
     "tableResultSettingsMap": {},
     "title": ""
    }
   },
   "outputs": [],
   "source": [
    "%sql\n",
    "\n",
    "-- Median (approximate) order value per customer.\n",
    "SELECT\n",
    "  o_custkey,\n",
    "  percentile_approx(o_totalprice, 0.5) AS median_order_value\n",
    "FROM samples.tpch.orders\n",
    "GROUP BY o_custkey;"
   ]
  },
  {
   "cell_type": "code",
   "execution_count": 0,
   "metadata": {
    "application/vnd.databricks.v1+cell": {
     "cellMetadata": {
      "byteLimit": 2048000,
      "implicitDf": true,
      "rowLimit": 10000
     },
     "inputWidgets": {},
     "nuid": "57c2aced-3e54-4229-b119-e2661f58e47f",
     "showTitle": false,
     "tableResultSettingsMap": {},
     "title": ""
    }
   },
   "outputs": [],
   "source": [
    "%sql\n",
    "\n",
    "-- Running total of daily revenue.\n",
    "SELECT\n",
    "  order_day,\n",
    "  SUM(daily_revenue) OVER (\n",
    "    ORDER BY order_day ROWS BETWEEN UNBOUNDED PRECEDING AND CURRENT ROW) AS running_total\n",
    "FROM (\n",
    "  SELECT\n",
    "    date_format(o_orderdate, 'yyyy-MM-dd') AS order_day,\n",
    "    SUM(o_totalprice)                   AS daily_revenue\n",
    "  FROM samples.tpch.orders\n",
    "  GROUP BY date_format(o_orderdate, 'yyyy-MM-dd')\n",
    ") t\n",
    "ORDER BY order_day;"
   ]
  },
  {
   "cell_type": "markdown",
   "metadata": {
    "application/vnd.databricks.v1+cell": {
     "cellMetadata": {
      "byteLimit": 2048000,
      "rowLimit": 10000
     },
     "inputWidgets": {},
     "nuid": "10ceec67-61b1-4d22-8259-bd1ee55f90e3",
     "showTitle": false,
     "tableResultSettingsMap": {},
     "title": ""
    }
   },
   "source": [
    "# Example Data Cleansing"
   ]
  },
  {
   "cell_type": "code",
   "execution_count": 0,
   "metadata": {
    "application/vnd.databricks.v1+cell": {
     "cellMetadata": {
      "byteLimit": 2048000,
      "implicitDf": true,
      "rowLimit": 10000
     },
     "inputWidgets": {},
     "nuid": "af2f93ce-bc54-4c90-bb00-c7793b7fb977",
     "showTitle": false,
     "tableResultSettingsMap": {},
     "title": ""
    }
   },
   "outputs": [],
   "source": [
    "%sql\n",
    "-- Remove duplicate parts\n",
    "SELECT DISTINCT * FROM samples.tpch.part;"
   ]
  },
  {
   "cell_type": "code",
   "execution_count": 0,
   "metadata": {
    "application/vnd.databricks.v1+cell": {
     "cellMetadata": {
      "byteLimit": 2048000,
      "implicitDf": true,
      "rowLimit": 10000
     },
     "inputWidgets": {},
     "nuid": "e23247df-0c6c-4e1b-8d7f-43eb31d626e3",
     "showTitle": false,
     "tableResultSettingsMap": {},
     "title": ""
    }
   },
   "outputs": [],
   "source": [
    "%sql\n",
    "\n",
    "-- Replace nulls in customer comments\n",
    "SELECT COALESCE(c_comment, 'No comment') AS cleaned_comment FROM samples.tpch.customer LIMIT 100;"
   ]
  },
  {
   "cell_type": "code",
   "execution_count": 0,
   "metadata": {
    "application/vnd.databricks.v1+cell": {
     "cellMetadata": {
      "byteLimit": 2048000,
      "implicitDf": true,
      "rowLimit": 10000
     },
     "inputWidgets": {},
     "nuid": "dd38bf8f-81d1-41a0-9d02-0303a3f0035f",
     "showTitle": false,
     "tableResultSettingsMap": {},
     "title": ""
    }
   },
   "outputs": [],
   "source": [
    "%sql\n",
    "-- Filter out nulls in orders\n",
    "SELECT * FROM samples.tpch.orders WHERE o_totalprice IS NOT NULL  LIMIT 100;"
   ]
  },
  {
   "cell_type": "code",
   "execution_count": 0,
   "metadata": {
    "application/vnd.databricks.v1+cell": {
     "cellMetadata": {
      "byteLimit": 2048000,
      "implicitDf": true,
      "rowLimit": 10000
     },
     "inputWidgets": {},
     "nuid": "b56abb63-eebc-419b-b36a-e790793d1136",
     "showTitle": false,
     "tableResultSettingsMap": {},
     "title": ""
    }
   },
   "outputs": [],
   "source": [
    "%sql\n",
    "-- Trim extra whitespace in customer name\n",
    "SELECT TRIM(c_name) AS cleaned_name FROM samples.tpch.customer  LIMIT 100;"
   ]
  },
  {
   "cell_type": "code",
   "execution_count": 0,
   "metadata": {
    "application/vnd.databricks.v1+cell": {
     "cellMetadata": {
      "byteLimit": 2048000,
      "implicitDf": true,
      "rowLimit": 10000
     },
     "inputWidgets": {},
     "nuid": "25b14606-5dec-4069-9a01-02a44ba89555",
     "showTitle": false,
     "tableResultSettingsMap": {},
     "title": ""
    }
   },
   "outputs": [],
   "source": [
    "%sql\n",
    "-- Replace empty strings with NULL\n",
    "SELECT NULLIF(TRIM(c_comment), '') AS normalized_comment FROM samples.tpch.customer  LIMIT 100;"
   ]
  },
  {
   "cell_type": "code",
   "execution_count": 0,
   "metadata": {
    "application/vnd.databricks.v1+cell": {
     "cellMetadata": {
      "byteLimit": 2048000,
      "implicitDf": true,
      "rowLimit": 10000
     },
     "inputWidgets": {},
     "nuid": "1db74465-7086-4067-9614-aee0ca83c02b",
     "showTitle": false,
     "tableResultSettingsMap": {},
     "title": ""
    }
   },
   "outputs": [],
   "source": [
    "%sql\n",
    "-- Standardize casing for part name\n",
    "SELECT UPPER(p_name) AS part_name_upper FROM samples.tpch.part  LIMIT 100;\n",
    "SELECT LOWER(p_name) AS part_name_lower FROM samples.tpch.part  LIMIT 100;"
   ]
  },
  {
   "cell_type": "code",
   "execution_count": 0,
   "metadata": {
    "application/vnd.databricks.v1+cell": {
     "cellMetadata": {
      "byteLimit": 2048000,
      "implicitDf": true,
      "rowLimit": 10000
     },
     "inputWidgets": {},
     "nuid": "ba4a3cfe-a642-45b0-8b1e-731017f0f2f0",
     "showTitle": false,
     "tableResultSettingsMap": {},
     "title": ""
    }
   },
   "outputs": [],
   "source": [
    "%sql\n",
    "-- Parse and format phone numbers (assuming a consistent format like '+1-XXX-XXX-XXXX')\n",
    "SELECT REGEXP_REPLACE(c_phone, '[^0-9]', '') AS digits_only_phone FROM samples.tpch.customer  LIMIT 100;"
   ]
  },
  {
   "cell_type": "code",
   "execution_count": 0,
   "metadata": {
    "application/vnd.databricks.v1+cell": {
     "cellMetadata": {
      "byteLimit": 2048000,
      "implicitDf": true,
      "rowLimit": 10000
     },
     "inputWidgets": {},
     "nuid": "9d7b35b7-3343-457d-bb81-d6c1491867d0",
     "showTitle": false,
     "tableResultSettingsMap": {},
     "title": ""
    }
   },
   "outputs": [],
   "source": [
    "%sql\n",
    "-- Extract year from shipdate and remove future-dated rows\n",
    "SELECT * FROM samples.tpch.lineitem \n",
    "WHERE YEAR(l_shipdate) <= YEAR(CURRENT_DATE())  LIMIT 100;"
   ]
  },
  {
   "cell_type": "code",
   "execution_count": 0,
   "metadata": {
    "application/vnd.databricks.v1+cell": {
     "cellMetadata": {
      "byteLimit": 2048000,
      "implicitDf": true,
      "rowLimit": 10000
     },
     "inputWidgets": {},
     "nuid": "ed3f7bee-0b4d-403a-934f-74db29e25536",
     "showTitle": false,
     "tableResultSettingsMap": {},
     "title": ""
    }
   },
   "outputs": [],
   "source": [
    "%sql\n",
    "-- Filter out orders with invalid or zero price\n",
    "SELECT * FROM samples.tpch.orders \n",
    "WHERE o_totalprice IS NOT NULL AND o_totalprice > 0  LIMIT 100;"
   ]
  },
  {
   "cell_type": "code",
   "execution_count": 0,
   "metadata": {
    "application/vnd.databricks.v1+cell": {
     "cellMetadata": {
      "byteLimit": 2048000,
      "implicitDf": true,
      "rowLimit": 10000
     },
     "inputWidgets": {},
     "nuid": "cd68057c-629c-46da-a154-699005278713",
     "showTitle": false,
     "tableResultSettingsMap": {},
     "title": ""
    }
   },
   "outputs": [],
   "source": [
    "%sql\n",
    "-- Split full name into first and last\n",
    "SELECT\n",
    "  SPLIT(TRIM(c_name), ' ')[0] AS first_name,\n",
    "  SPLIT(TRIM(c_name), ' ')[SIZE(SPLIT(c_name,' ')) - 1] AS last_name,\n",
    "  c_custkey\n",
    "FROM samples.tpch.customer  LIMIT 100;"
   ]
  },
  {
   "cell_type": "code",
   "execution_count": 0,
   "metadata": {
    "application/vnd.databricks.v1+cell": {
     "cellMetadata": {
      "byteLimit": 2048000,
      "implicitDf": true,
      "rowLimit": 10000
     },
     "inputWidgets": {},
     "nuid": "9bb911c5-ed01-49ae-9b3b-5edd91623da3",
     "showTitle": false,
     "tableResultSettingsMap": {},
     "title": ""
    }
   },
   "outputs": [],
   "source": [
    "%sql\n",
    "-- Deduplicate orders: keep only the earliest order per customer\n",
    "WITH ranked_orders AS (\n",
    "  SELECT\n",
    "    o_custkey,\n",
    "    o_orderkey,\n",
    "    ROW_NUMBER() OVER (PARTITION BY o_custkey ORDER BY o_orderdate) AS rn\n",
    "  FROM samples.tpch.orders \n",
    ")\n",
    "SELECT\n",
    "  o_custkey,\n",
    "  o_orderkey\n",
    "FROM ranked_orders\n",
    "WHERE rn = 1\n",
    "LIMIT 100;"
   ]
  },
  {
   "cell_type": "code",
   "execution_count": 0,
   "metadata": {
    "application/vnd.databricks.v1+cell": {
     "cellMetadata": {
      "byteLimit": 2048000,
      "implicitDf": true,
      "rowLimit": 10000
     },
     "inputWidgets": {},
     "nuid": "06d4f9cc-f7f2-4309-be3b-bfbb70288eee",
     "showTitle": false,
     "tableResultSettingsMap": {},
     "title": ""
    }
   },
   "outputs": [],
   "source": [
    "%sql\n",
    "-- get the latest order from a customer\n",
    "-- 1. Rank every order per customer by order date (newest first)\n",
    "WITH ranked_orders AS (\n",
    "  SELECT\n",
    "    o_custkey,\n",
    "    o_orderkey,\n",
    "    o_orderdate,\n",
    "    o_totalprice,\n",
    "    ROW_NUMBER() \n",
    "      OVER (\n",
    "        PARTITION BY o_custkey         -- group by customer\n",
    "        ORDER BY o_orderdate DESC,    -- newest order first\n",
    "                 o_orderkey DESC      -- tie-breaker if two orders share the same date\n",
    "      ) AS rn\n",
    "  FROM samples.tpch.orders\n",
    ")\n",
    "\n",
    "-- 2. Select only the top-ranked (latest) order for each customer\n",
    "SELECT *\n",
    "FROM ranked_orders\n",
    "WHERE rn = 1\n",
    " LIMIT 100;"
   ]
  },
  {
   "cell_type": "markdown",
   "metadata": {
    "application/vnd.databricks.v1+cell": {
     "cellMetadata": {
      "byteLimit": 2048000,
      "rowLimit": 10000
     },
     "inputWidgets": {},
     "nuid": "6197ba28-2a01-4968-a131-cf653bea7281",
     "showTitle": false,
     "tableResultSettingsMap": {},
     "title": ""
    }
   },
   "source": [
    "\n",
    "# Common Date Functions"
   ]
  },
  {
   "cell_type": "code",
   "execution_count": 0,
   "metadata": {
    "application/vnd.databricks.v1+cell": {
     "cellMetadata": {
      "byteLimit": 2048000,
      "implicitDf": true,
      "rowLimit": 10000
     },
     "inputWidgets": {},
     "nuid": "84c79d3b-c779-4cd5-abd6-662267c2e4f8",
     "showTitle": false,
     "tableResultSettingsMap": {},
     "title": ""
    }
   },
   "outputs": [],
   "source": [
    "%sql\n",
    "-- Extract components\n",
    "SELECT o_orderdate, YEAR(o_orderdate) AS year, MONTH(o_orderdate) AS month FROM samples.tpch.orders  LIMIT 100;"
   ]
  },
  {
   "cell_type": "code",
   "execution_count": 0,
   "metadata": {
    "application/vnd.databricks.v1+cell": {
     "cellMetadata": {
      "byteLimit": 2048000,
      "implicitDf": true,
      "rowLimit": 10000
     },
     "inputWidgets": {},
     "nuid": "131c5717-a73d-4041-8fee-88c4d4b616ba",
     "showTitle": false,
     "tableResultSettingsMap": {},
     "title": ""
    }
   },
   "outputs": [],
   "source": [
    "%sql\n",
    "-- Date arithmetic (Add 7 days)\n",
    "SELECT o_orderdate, o_orderdate + INTERVAL 7 DAYS AS week_later FROM samples.tpch.orders  LIMIT 100;"
   ]
  },
  {
   "cell_type": "code",
   "execution_count": 0,
   "metadata": {
    "application/vnd.databricks.v1+cell": {
     "cellMetadata": {
      "byteLimit": 2048000,
      "implicitDf": true,
      "rowLimit": 10000
     },
     "inputWidgets": {},
     "nuid": "59f0eb36-da02-4106-9928-ea9c2b7797cb",
     "showTitle": false,
     "tableResultSettingsMap": {},
     "title": ""
    }
   },
   "outputs": [],
   "source": [
    "%sql\n",
    "-- Current date/time\n",
    "SELECT CURRENT_DATE(), CURRENT_TIMESTAMP();"
   ]
  },
  {
   "cell_type": "code",
   "execution_count": 0,
   "metadata": {
    "application/vnd.databricks.v1+cell": {
     "cellMetadata": {
      "byteLimit": 2048000,
      "implicitDf": true,
      "rowLimit": 10000
     },
     "inputWidgets": {},
     "nuid": "5d068871-e1e0-4b39-be03-0a34b095c8c6",
     "showTitle": false,
     "tableResultSettingsMap": {},
     "title": ""
    }
   },
   "outputs": [],
   "source": [
    "%sql\n",
    "-- Truncate to unit\n",
    "SELECT o_orderdate, DATE_TRUNC('MM', o_orderdate) AS month_start FROM samples.tpch.orders  LIMIT 100;"
   ]
  },
  {
   "cell_type": "code",
   "execution_count": 0,
   "metadata": {
    "application/vnd.databricks.v1+cell": {
     "cellMetadata": {
      "byteLimit": 2048000,
      "implicitDf": true,
      "rowLimit": 10000
     },
     "inputWidgets": {},
     "nuid": "b9d69371-1154-4851-93e7-9d6bda7612f9",
     "showTitle": false,
     "tableResultSettingsMap": {},
     "title": ""
    }
   },
   "outputs": [],
   "source": [
    "%sql\n",
    "-- Format and parse\n",
    "SELECT DATE_FORMAT(o_orderdate, 'yyyy-MM') AS order_month FROM samples.tpch.orders  LIMIT 100;"
   ]
  },
  {
   "cell_type": "code",
   "execution_count": 0,
   "metadata": {
    "application/vnd.databricks.v1+cell": {
     "cellMetadata": {
      "byteLimit": 2048000,
      "implicitDf": true,
      "rowLimit": 10000
     },
     "inputWidgets": {},
     "nuid": "1dea0788-c525-4e5c-a7ed-000bdd332d40",
     "showTitle": false,
     "tableResultSettingsMap": {},
     "title": ""
    }
   },
   "outputs": [],
   "source": [
    "%sql\n",
    "-- Days between\n",
    "SELECT DATEDIFF(l_shipdate, l_receiptdate) AS days_to_ship FROM samples.tpch.lineitem  LIMIT 100;"
   ]
  },
  {
   "cell_type": "code",
   "execution_count": 0,
   "metadata": {
    "application/vnd.databricks.v1+cell": {
     "cellMetadata": {
      "byteLimit": 2048000,
      "implicitDf": true,
      "rowLimit": 10000
     },
     "inputWidgets": {},
     "nuid": "0a222bbf-df37-4344-a12a-0f5794707d36",
     "showTitle": false,
     "tableResultSettingsMap": {},
     "title": ""
    }
   },
   "outputs": [],
   "source": [
    "%sql\n",
    "-- Add/subtract days\n",
    "SELECT o_orderdate, DATE_ADD(o_orderdate, 10) AS plus_10_days FROM samples.tpch.orders  LIMIT 100;\n",
    "SELECT o_orderdate, DATE_SUB(o_orderdate, 5) AS minus_5_days FROM samples.tpch.orders  LIMIT 100;"
   ]
  },
  {
   "cell_type": "markdown",
   "metadata": {
    "application/vnd.databricks.v1+cell": {
     "cellMetadata": {
      "byteLimit": 2048000,
      "rowLimit": 10000
     },
     "inputWidgets": {},
     "nuid": "9e0ae484-03ce-4bff-b172-24b664e3affb",
     "showTitle": false,
     "tableResultSettingsMap": {},
     "title": ""
    }
   },
   "source": [
    "# Example Joins"
   ]
  },
  {
   "cell_type": "code",
   "execution_count": 0,
   "metadata": {
    "application/vnd.databricks.v1+cell": {
     "cellMetadata": {
      "byteLimit": 2048000,
      "implicitDf": true,
      "rowLimit": 10000
     },
     "inputWidgets": {},
     "nuid": "5d5d78df-741d-49f5-8d22-b998100cb251",
     "showTitle": false,
     "tableResultSettingsMap": {},
     "title": ""
    }
   },
   "outputs": [],
   "source": [
    "%sql\n",
    "-- Inner Join: Get customer names and their orders placed in January 1994.\n",
    "SELECT\n",
    "  c.c_name,\n",
    "  o.o_orderkey,\n",
    "  o.o_orderdate,\n",
    "  o.o_totalprice\n",
    "FROM samples.tpch.customer AS c\n",
    "  INNER JOIN samples.tpch.orders AS o\n",
    "    ON c.c_custkey = o.o_custkey\n",
    "WHERE o.o_orderdate BETWEEN '1994-01-01' AND '1994-01-31'\n",
    " LIMIT 100;"
   ]
  },
  {
   "cell_type": "code",
   "execution_count": 0,
   "metadata": {
    "application/vnd.databricks.v1+cell": {
     "cellMetadata": {
      "byteLimit": 2048000,
      "implicitDf": true,
      "rowLimit": 10000
     },
     "inputWidgets": {},
     "nuid": "dbab73c4-f422-4ee6-9b12-0934aafbc00f",
     "showTitle": false,
     "tableResultSettingsMap": {},
     "title": ""
    }
   },
   "outputs": [],
   "source": [
    "%sql\n",
    "-- Left Outer Join: List all customers, showing order info only if they’ve placed one.\n",
    "SELECT\n",
    "  c.c_custkey,\n",
    "  c.c_name,\n",
    "  o.o_orderkey,\n",
    "  o.o_orderdate\n",
    "FROM samples.tpch.customer AS c\n",
    "  LEFT OUTER JOIN samples.tpch.orders AS o\n",
    "    ON c.c_custkey = o.o_custkey\n",
    " LIMIT 100;"
   ]
  },
  {
   "cell_type": "code",
   "execution_count": 0,
   "metadata": {
    "application/vnd.databricks.v1+cell": {
     "cellMetadata": {
      "byteLimit": 2048000,
      "implicitDf": true,
      "rowLimit": 10000
     },
     "inputWidgets": {},
     "nuid": "dd24a921-f4b3-45d9-b2ff-b9607ba03a8b",
     "showTitle": false,
     "tableResultSettingsMap": {},
     "title": ""
    }
   },
   "outputs": [],
   "source": [
    "%sql\n",
    "\n",
    "-- Right Outer Join: Show all orders—even if there’s no matching customer record.\n",
    "SELECT\n",
    "  o.o_orderkey,\n",
    "  o.o_orderdate,\n",
    "  c.c_custkey,\n",
    "  c.c_name\n",
    "FROM samples.tpch.customer AS c\n",
    "  RIGHT OUTER JOIN samples.tpch.orders AS o\n",
    "    ON c.c_custkey = o.o_custkey\n",
    "LIMIT 100;"
   ]
  },
  {
   "cell_type": "code",
   "execution_count": 0,
   "metadata": {
    "application/vnd.databricks.v1+cell": {
     "cellMetadata": {
      "byteLimit": 2048000,
      "implicitDf": true,
      "rowLimit": 10000
     },
     "inputWidgets": {},
     "nuid": "7a873689-03c8-4047-b131-17386f15dc19",
     "showTitle": false,
     "tableResultSettingsMap": {},
     "title": ""
    }
   },
   "outputs": [],
   "source": [
    "%sql\n",
    "-- Full Outer Join: Capture the union of customers and orders, including unmatched rows.\n",
    "SELECT\n",
    "  c.c_custkey,\n",
    "  c.c_name,\n",
    "  o.o_orderkey,\n",
    "  o.o_orderdate\n",
    "FROM samples.tpch.customer AS c\n",
    "  FULL OUTER JOIN samples.tpch.orders AS o\n",
    "    ON c.c_custkey = o.o_custkey\n",
    " LIMIT 100;"
   ]
  },
  {
   "cell_type": "code",
   "execution_count": 0,
   "metadata": {
    "application/vnd.databricks.v1+cell": {
     "cellMetadata": {
      "byteLimit": 2048000,
      "implicitDf": true,
      "rowLimit": 10000
     },
     "inputWidgets": {},
     "nuid": "1fdfded5-eafa-4a57-a978-70bceda1a2d5",
     "showTitle": false,
     "tableResultSettingsMap": {},
     "title": ""
    }
   },
   "outputs": [],
   "source": [
    "%sql\n",
    "-- Left Anti Join: Find customers who have not placed any orders.\n",
    "SELECT\n",
    "  c.c_custkey,\n",
    "  c.c_name\n",
    "FROM samples.tpch.customer AS c\n",
    "  LEFT ANTI JOIN samples.tpch.orders AS o\n",
    "    ON c.c_custkey = o.o_custkey\n",
    " LIMIT 100    ;"
   ]
  },
  {
   "cell_type": "code",
   "execution_count": 0,
   "metadata": {
    "application/vnd.databricks.v1+cell": {
     "cellMetadata": {
      "byteLimit": 2048000,
      "implicitDf": true,
      "rowLimit": 10000
     },
     "inputWidgets": {},
     "nuid": "8c551205-216f-4d5f-b26c-ef87f42ba281",
     "showTitle": false,
     "tableResultSettingsMap": {},
     "title": ""
    }
   },
   "outputs": [],
   "source": [
    "%sql\n",
    "-- Cross Join: Cartesian product of customers and orders (use sparingly!).\n",
    "SELECT\n",
    "  c.c_name,\n",
    "  o.o_orderkey\n",
    "FROM samples.tpch.customer AS c\n",
    "  CROSS JOIN samples.tpch.orders AS o\n",
    "LIMIT 10;"
   ]
  },
  {
   "cell_type": "code",
   "execution_count": 0,
   "metadata": {
    "application/vnd.databricks.v1+cell": {
     "cellMetadata": {
      "byteLimit": 2048000,
      "implicitDf": true,
      "rowLimit": 10000
     },
     "inputWidgets": {},
     "nuid": "f06f0955-57e9-49a4-bba5-a66334129cac",
     "showTitle": false,
     "tableResultSettingsMap": {},
     "title": ""
    }
   },
   "outputs": [],
   "source": [
    "%sql\n",
    "-- Self Join: Find pairs of orders by the same customer on the same date.\n",
    "SELECT\n",
    "  o1.o_orderkey AS order_a,\n",
    "  o2.o_orderkey AS order_b,\n",
    "  o1.o_orderdate\n",
    "FROM samples.tpch.orders AS o1\n",
    "  JOIN samples.tpch.orders AS o2\n",
    "    ON o1.o_custkey   = o2.o_custkey\n",
    "   AND o1.o_orderdate = o2.o_orderdate\n",
    "   AND o1.o_orderkey < o2.o_orderkey\n",
    "LIMIT 10;"
   ]
  },
  {
   "cell_type": "markdown",
   "metadata": {
    "application/vnd.databricks.v1+cell": {
     "cellMetadata": {
      "byteLimit": 2048000,
      "rowLimit": 10000
     },
     "inputWidgets": {},
     "nuid": "ca326d98-dc25-49b9-8abd-44441d9d58be",
     "showTitle": false,
     "tableResultSettingsMap": {},
     "title": ""
    }
   },
   "source": [
    "# Windows Functions\n",
    "Learn more about [windows functions here](https://www.geeksforgeeks.org/window-functions-in-sql/)\n",
    "\n",
    "Think of a window function as a “calculator” that looks at a moving frame—or “window”—of rows around the current row, computes something (like a running total, rank, or average), and then sticks the result back on that same row. Unlike a traditional GROUP BY that collapses many rows into one, window functions let you:\n",
    "\n",
    "- **Partition** your data into groups (e.g., per customer)\n",
    "\n",
    "- **Order** rows within each group (e.g., by date)\n",
    "\n",
    "- **Compute** an aggregate or ranking over that window (e.g., cumulative sum, row number, lag/lead values)\n",
    "\n",
    "### Example\n",
    "The table below shows how the `ROW_NUMBER()` window function assigns a sequential rank to each order for a customer order based on the date. \n",
    "- **custkey:** the customer identifier (here, all rows are for customer 1).\n",
    "- **orderdate:** the date of each order.\n",
    "- **order_seq:** the sequence number given by\n",
    "\n",
    "**SQL Syntax:**\n",
    "```\n",
    "SELECT \n",
    "  custkey\n",
    "  ,orderdate\n",
    "  ,ROW_NUMBER() OVER (PARTITION BY o_custkey ORDER BY o_orderdate) AS order_seq\n",
    "FROM customers\n",
    "```\n",
    "\n",
    "**Output**\n",
    "\n",
    "| custkey | orderdate  | order_seq |\n",
    "|---------|------------|-----------|\n",
    "| 1       | 1994-01-05 | 1         |\n",
    "| 1       | 1994-01-10 | 2         |\n",
    "| 1       | 1994-01-20 | 3         |"
   ]
  },
  {
   "cell_type": "code",
   "execution_count": 0,
   "metadata": {
    "application/vnd.databricks.v1+cell": {
     "cellMetadata": {
      "byteLimit": 2048000,
      "implicitDf": true,
      "rowLimit": 10000
     },
     "inputWidgets": {},
     "nuid": "bc542847-decd-4cc2-aede-dbb47950cabc",
     "showTitle": false,
     "tableResultSettingsMap": {},
     "title": ""
    }
   },
   "outputs": [],
   "source": [
    "%sql\n",
    "-- Calculate row number of each order per customer based on order date (oldest first)\n",
    "SELECT\n",
    "  o_custkey,\n",
    "  o_orderkey,\n",
    "  o_orderdate,\n",
    "  ROW_NUMBER() OVER (PARTITION BY o_custkey ORDER BY o_orderdate) AS order_seq\n",
    "FROM samples.tpch.orders\n",
    "LIMIT 100;"
   ]
  },
  {
   "cell_type": "code",
   "execution_count": 0,
   "metadata": {
    "application/vnd.databricks.v1+cell": {
     "cellMetadata": {
      "byteLimit": 2048000,
      "implicitDf": true,
      "rowLimit": 10000
     },
     "inputWidgets": {},
     "nuid": "021e6f25-bacb-48c2-9bf0-0eed23b5795d",
     "showTitle": false,
     "tableResultSettingsMap": {},
     "title": ""
    }
   },
   "outputs": [],
   "source": [
    "%sql\n",
    "-- Rank orders by total price per customer (highest first)\n",
    "SELECT\n",
    "  o_custkey,\n",
    "  o_orderkey,\n",
    "  o_totalprice,\n",
    "  RANK() OVER (PARTITION BY o_custkey ORDER BY o_totalprice DESC) AS price_rank\n",
    "FROM samples.tpch.orders\n",
    "LIMIT 100;"
   ]
  },
  {
   "cell_type": "code",
   "execution_count": 0,
   "metadata": {
    "application/vnd.databricks.v1+cell": {
     "cellMetadata": {
      "byteLimit": 2048000,
      "implicitDf": true,
      "rowLimit": 10000
     },
     "inputWidgets": {},
     "nuid": "ba069c4a-6763-4612-a36d-d46908c24eef",
     "showTitle": false,
     "tableResultSettingsMap": {},
     "title": ""
    }
   },
   "outputs": [],
   "source": [
    "%sql\n",
    "-- Dense rank of parts by retail price to assign price tiers\n",
    "SELECT\n",
    "  p_partkey,\n",
    "  p_name,\n",
    "  p_retailprice,\n",
    "  DENSE_RANK() OVER (ORDER BY p_retailprice DESC) AS price_tier\n",
    "FROM samples.tpch.part\n",
    "LIMIT 100;"
   ]
  },
  {
   "cell_type": "code",
   "execution_count": 0,
   "metadata": {
    "application/vnd.databricks.v1+cell": {
     "cellMetadata": {
      "byteLimit": 2048000,
      "implicitDf": true,
      "rowLimit": 10000
     },
     "inputWidgets": {},
     "nuid": "4633891d-00dc-443f-b006-97b048e70958",
     "showTitle": false,
     "tableResultSettingsMap": {},
     "title": ""
    }
   },
   "outputs": [],
   "source": [
    "%sql\n",
    "-- Moving average of daily revenue over the current and two preceding days\n",
    "WITH daily_rev AS (\n",
    "  SELECT\n",
    "    date_format(o_orderdate, 'yyyy-MM-dd') AS day,\n",
    "    SUM(o_totalprice) AS revenue\n",
    "  FROM samples.tpch.orders\n",
    "  GROUP BY date_format(o_orderdate, 'yyyy-MM-dd')\n",
    ")\n",
    "SELECT\n",
    "  day,\n",
    "  revenue,\n",
    "  ROUND(AVG(revenue) OVER (ORDER BY day ROWS BETWEEN 2 PRECEDING AND CURRENT ROW), 2) AS rev_3day_avg\n",
    "FROM daily_rev\n",
    "ORDER BY day;"
   ]
  },
  {
   "cell_type": "code",
   "execution_count": 0,
   "metadata": {
    "application/vnd.databricks.v1+cell": {
     "cellMetadata": {
      "byteLimit": 2048000,
      "implicitDf": true,
      "rowLimit": 10000
     },
     "inputWidgets": {},
     "nuid": "57121939-d405-4269-9775-82da8706b21c",
     "showTitle": false,
     "tableResultSettingsMap": {},
     "title": ""
    }
   },
   "outputs": [],
   "source": [
    "%sql\n",
    "-- Show previous and next order dates for each order per customer\n",
    "SELECT\n",
    "  o_custkey,\n",
    "  o_orderkey,\n",
    "  o_orderdate,\n",
    "  LAG(o_orderdate) OVER (PARTITION BY o_custkey ORDER BY o_orderdate) AS prev_order_date,\n",
    "  LEAD(o_orderdate) OVER (PARTITION BY o_custkey ORDER BY o_orderdate) AS next_order_date\n",
    "FROM samples.tpch.orders\n",
    "LIMIT 100;"
   ]
  },
  {
   "cell_type": "code",
   "execution_count": 0,
   "metadata": {
    "application/vnd.databricks.v1+cell": {
     "cellMetadata": {
      "byteLimit": 2048000,
      "implicitDf": true,
      "rowLimit": 10000
     },
     "inputWidgets": {},
     "nuid": "b6c4e95b-1821-4041-a823-00d30bec218c",
     "showTitle": false,
     "tableResultSettingsMap": {},
     "title": ""
    }
   },
   "outputs": [],
   "source": [
    "%sql\n",
    "-- Compute percentile rank of each order’s total price across all orders\n",
    "SELECT\n",
    "  o_orderkey,\n",
    "  o_totalprice,\n",
    "  PERCENT_RANK() OVER (ORDER BY o_totalprice) AS price_percent_rank\n",
    "FROM samples.tpch.orders\n",
    "LIMIT 100;"
   ]
  },
  {
   "cell_type": "code",
   "execution_count": 0,
   "metadata": {
    "application/vnd.databricks.v1+cell": {
     "cellMetadata": {
      "byteLimit": 2048000,
      "implicitDf": true,
      "rowLimit": 10000
     },
     "inputWidgets": {},
     "nuid": "2e1b13e0-2ff0-4898-8030-57b74d27bac8",
     "showTitle": false,
     "tableResultSettingsMap": {},
     "title": ""
    }
   },
   "outputs": [],
   "source": [
    "%sql\n",
    "-- Assign quartiles to customers based on total revenue\n",
    "WITH cust_rev AS (\n",
    "  SELECT\n",
    "    o_custkey,\n",
    "    SUM(o_totalprice) AS total_rev\n",
    "  FROM samples.tpch.orders\n",
    "  GROUP BY o_custkey\n",
    ")\n",
    "SELECT\n",
    "  o_custkey,\n",
    "  total_rev,\n",
    "  NTILE(4) OVER (ORDER BY total_rev DESC) AS revenue_quartile\n",
    "FROM cust_rev\n",
    "ORDER BY revenue_quartile, total_rev DESC\n",
    "LIMIT 100;"
   ]
  },
  {
   "cell_type": "markdown",
   "metadata": {
    "application/vnd.databricks.v1+cell": {
     "cellMetadata": {
      "byteLimit": 2048000,
      "rowLimit": 10000
     },
     "inputWidgets": {},
     "nuid": "51e0d2e9-5a40-4729-b502-1c669678e68c",
     "showTitle": false,
     "tableResultSettingsMap": {},
     "title": ""
    }
   },
   "source": [
    "# CTEs\n",
    "\n",
    "A Common Table Expression (CTE) is a way to define a temporary, named result set that you can reference within a single SQL statement. It’s essentially an inline view with a name, scoped to the query where it’s declared. CTEs were introduced in the SQL-99 standard and since then have become widely supported (e.g., in SQL Server, PostgreSQL, Oracle, MySQL, and Spark SQL).\n",
    "\n",
    "[Learn more here](https://www.geeksforgeeks.org/cte-in-sql/)"
   ]
  },
  {
   "cell_type": "code",
   "execution_count": 0,
   "metadata": {
    "application/vnd.databricks.v1+cell": {
     "cellMetadata": {
      "byteLimit": 2048000,
      "implicitDf": true,
      "rowLimit": 10000
     },
     "inputWidgets": {},
     "nuid": "be2d2fa2-a155-4083-852d-ed03228a902c",
     "showTitle": false,
     "tableResultSettingsMap": {},
     "title": ""
    }
   },
   "outputs": [],
   "source": [
    "%sql\n",
    "-- Latest order from a customer\n",
    "\n",
    "-- 1. Rank every order per customer by order date (newest first)\n",
    "WITH ranked_orders AS (\n",
    "  SELECT\n",
    "    o_custkey,\n",
    "    o_orderkey,\n",
    "    o_orderdate,\n",
    "    o_totalprice,\n",
    "    ROW_NUMBER() \n",
    "      OVER (\n",
    "        PARTITION BY o_custkey         -- group by customer\n",
    "        ORDER BY o_orderdate DESC,    -- newest order first\n",
    "                 o_orderkey DESC      -- tie-breaker if two orders share the same date\n",
    "      ) AS rn\n",
    "  FROM samples.tpch.orders\n",
    ")\n",
    "\n",
    "-- 2. Select only the top-ranked (latest) order for each customer\n",
    "SELECT *\n",
    "FROM ranked_orders\n",
    "WHERE rn = 1\n",
    "LIMIT 100;"
   ]
  },
  {
   "cell_type": "code",
   "execution_count": 0,
   "metadata": {
    "application/vnd.databricks.v1+cell": {
     "cellMetadata": {
      "byteLimit": 2048000,
      "implicitDf": true,
      "rowLimit": 10000
     },
     "inputWidgets": {},
     "nuid": "d3c991c8-ba52-46d8-8a4f-6ed3ffc397f2",
     "showTitle": false,
     "tableResultSettingsMap": {},
     "title": ""
    }
   },
   "outputs": [],
   "source": [
    "%sql\n",
    "--Top 5 Customers by Total Spend\n",
    "\n",
    "WITH customer_spend AS (\n",
    "  -- sum up total price per order\n",
    "  SELECT\n",
    "    o_custkey,\n",
    "    SUM(o_totalprice) AS total_spent\n",
    "  FROM samples.tpch.orders\n",
    "  GROUP BY o_custkey\n",
    "),\n",
    "ranked_customers AS (\n",
    "  -- join back to get customer names and rank by spend\n",
    "  SELECT\n",
    "    c.c_custkey,\n",
    "    c.c_name,\n",
    "    cs.total_spent,\n",
    "    ROW_NUMBER() OVER (ORDER BY cs.total_spent DESC) AS rn\n",
    "  FROM samples.tpch.customer c\n",
    "  JOIN customer_spend cs\n",
    "    ON c.c_custkey = cs.o_custkey\n",
    ")\n",
    "SELECT\n",
    "  c_name      AS customer,\n",
    "  total_spent\n",
    "FROM ranked_customers\n",
    "WHERE rn <= 5\n",
    "ORDER BY total_spent DESC\n",
    "LIMIT 100;"
   ]
  },
  {
   "cell_type": "markdown",
   "metadata": {
    "application/vnd.databricks.v1+cell": {
     "cellMetadata": {
      "byteLimit": 2048000,
      "rowLimit": 10000
     },
     "inputWidgets": {},
     "nuid": "2cf550a4-f8eb-47ed-b34b-b0d2ca38678b",
     "showTitle": false,
     "tableResultSettingsMap": {},
     "title": ""
    }
   },
   "source": [
    "# Temporary Views \n",
    "Temporary views are the foundation for creating a multi-step program/process in a notebook when using SQL!\n",
    "\n",
    "Temporary views are virtual tables that are based on the result of a SQL query. They are not stored in the catalog and are only visible to the current session, similar to that of a `temporary table` in other databases. They are automatically dropped when the session ends or when you explicitly drop them using `DROP VIEW`. Temporary views allow you to reuse the result of a complex query without creating a permanent table!\n",
    "\n",
    "- _Note: A temporary View created in one notebook isn't accessible to others!_ Temporary views are visible only to the session that created them and are dropped when the session ends.\n",
    "\n",
    "### Temporary Views or CTEs?\n",
    "Temporary views can be an excellent complement—or even substitute—for CTEs when you need to break complex logic into reusable, inspectable building blocks:\n",
    "\n",
    "**Session-wide reuse**\n",
    "- CTEs exist only within the single SQL statement that defines them.\n",
    "- Temp views persist for your entire  session, so you can reference the same intermediate result across multiple independent queries without redefining it each time.\n",
    "\n",
    "**Improved readability & modularity**\n",
    "- Instead of a single gigantic `WITH … SELECT …` block, you can layer logic:\n",
    "  1. Create step-by-step temp views (`step1_view`, `step2_view`, …)\n",
    "  2. Then `SELECT` or join them in your final analysis.\n",
    "- This makes each piece easier to develop, test, and debug in isolation.\n",
    "\n",
    "**Performance tuning & caching**\n",
    "- You can cache a temp view in memory (`CACHE TABLE`) so that expensive transformations run once and serve many downstream queries.\n",
    "- CTEs get re-evaluated each time you reference them in the same statement, which can waste work if your CTE is used multiple times.\n",
    "\n",
    "### How do you create a temporary view?\n",
    "**Syntax:**\n",
    "<br>`CREATE OR REPLACE TEMPORARY VIEW view_name AS query`\n",
    "\n",
    "**<br>Example of a temporary view:**\n",
    "\n",
    "```\n",
    "CREATE OR REPLACE TEMP VIEW daily_revenue\n",
    "AS (\n",
    "  SELECT\n",
    "    date_format(o_orderdate, 'yyyy-MM-dd') AS day,\n",
    "    SUM(o_totalprice) AS revenue\n",
    "  FROM samples.tpch.orders\n",
    "  GROUP BY ALL\n",
    ");\n",
    "```"
   ]
  },
  {
   "cell_type": "markdown",
   "metadata": {
    "application/vnd.databricks.v1+cell": {
     "cellMetadata": {
      "byteLimit": 2048000,
      "rowLimit": 10000
     },
     "inputWidgets": {},
     "nuid": "7a3127c3-a96c-4baa-8d76-95542790a7a4",
     "showTitle": false,
     "tableResultSettingsMap": {},
     "title": ""
    }
   },
   "source": [
    "### Temp View - SQL Example 1 (see below)"
   ]
  },
  {
   "cell_type": "code",
   "execution_count": 0,
   "metadata": {
    "application/vnd.databricks.v1+cell": {
     "cellMetadata": {
      "byteLimit": 2048000,
      "implicitDf": true,
      "rowLimit": 10000
     },
     "inputWidgets": {},
     "nuid": "ed7374bb-4b13-4b93-a997-28f750d89df2",
     "showTitle": false,
     "tableResultSettingsMap": {},
     "title": ""
    }
   },
   "outputs": [],
   "source": [
    "%sql\n",
    "-- Latest order from a customer\n",
    "\n",
    "-- Create a temporary view for ranked orders\n",
    "CREATE OR REPLACE TEMP VIEW ranked_orders AS\n",
    "  SELECT\n",
    "    o_custkey,\n",
    "    o_orderkey,\n",
    "    o_orderdate,\n",
    "    o_totalprice,\n",
    "    ROW_NUMBER() \n",
    "      OVER (\n",
    "        PARTITION BY o_custkey         -- group by customer\n",
    "        ORDER BY o_orderdate DESC,    -- newest order first\n",
    "                 o_orderkey DESC      -- tie-breaker if two orders share the same date\n",
    "      ) AS rn\n",
    "  FROM samples.tpch.orders;"
   ]
  },
  {
   "cell_type": "code",
   "execution_count": 0,
   "metadata": {
    "application/vnd.databricks.v1+cell": {
     "cellMetadata": {
      "byteLimit": 2048000,
      "implicitDf": true,
      "rowLimit": 10000
     },
     "inputWidgets": {},
     "nuid": "ec8f054a-d59b-4501-8410-bf2c0a5667ac",
     "showTitle": false,
     "tableResultSettingsMap": {},
     "title": ""
    }
   },
   "outputs": [],
   "source": [
    "%sql\n",
    "-- Select only the top-ranked (latest) order for each customer from the temp view created in the cell above\n",
    "SELECT *\n",
    "FROM ranked_orders\n",
    "WHERE rn = 1\n",
    "LIMIT 100;"
   ]
  },
  {
   "cell_type": "markdown",
   "metadata": {
    "application/vnd.databricks.v1+cell": {
     "cellMetadata": {
      "byteLimit": 2048000,
      "rowLimit": 10000
     },
     "inputWidgets": {},
     "nuid": "ace49020-021d-4e9b-8101-6cfe6d5f4f69",
     "showTitle": false,
     "tableResultSettingsMap": {},
     "title": ""
    }
   },
   "source": [
    "### Temp View - SQL Example 2 (see below)"
   ]
  },
  {
   "cell_type": "code",
   "execution_count": 0,
   "metadata": {
    "application/vnd.databricks.v1+cell": {
     "cellMetadata": {
      "byteLimit": 2048000,
      "implicitDf": true,
      "rowLimit": 10000
     },
     "inputWidgets": {},
     "nuid": "aea2a9d3-db58-4cac-913b-ac37ca02557c",
     "showTitle": false,
     "tableResultSettingsMap": {},
     "title": ""
    }
   },
   "outputs": [],
   "source": [
    "%sql\n",
    "-- Create a temporary view for customer spend\n",
    "CREATE OR REPLACE TEMP VIEW customer_spend AS\n",
    "SELECT\n",
    "  o_custkey,\n",
    "  SUM(o_totalprice) AS total_spent\n",
    "FROM samples.tpch.orders\n",
    "GROUP BY o_custkey;"
   ]
  },
  {
   "cell_type": "code",
   "execution_count": 0,
   "metadata": {
    "application/vnd.databricks.v1+cell": {
     "cellMetadata": {
      "byteLimit": 2048000,
      "implicitDf": true,
      "rowLimit": 10000
     },
     "inputWidgets": {},
     "nuid": "40b9b761-2d9f-4405-aa89-2fb0f719b82d",
     "showTitle": false,
     "tableResultSettingsMap": {},
     "title": ""
    }
   },
   "outputs": [],
   "source": [
    "%sql\n",
    "\n",
    "-- Create a temporary view for ranked customers using the temp view called customer_spend created in the cell above\n",
    "CREATE OR REPLACE TEMP VIEW ranked_customers AS\n",
    "SELECT\n",
    "  c.c_custkey,\n",
    "  c.c_name,\n",
    "  cs.total_spent,\n",
    "  ROW_NUMBER() OVER (ORDER BY cs.total_spent DESC) AS rn\n",
    "FROM samples.tpch.customer c\n",
    "JOIN customer_spend cs\n",
    "  ON c.c_custkey = cs.o_custkey;"
   ]
  },
  {
   "cell_type": "code",
   "execution_count": 0,
   "metadata": {
    "application/vnd.databricks.v1+cell": {
     "cellMetadata": {
      "byteLimit": 2048000,
      "implicitDf": true,
      "rowLimit": 10000
     },
     "inputWidgets": {},
     "nuid": "8846cc5a-f18c-4e93-874c-c424c9f13717",
     "showTitle": false,
     "tableResultSettingsMap": {},
     "title": ""
    }
   },
   "outputs": [],
   "source": [
    "%sql\n",
    "-- Select top 5 customers by total spend from the temp view called ranked_customers created in the cell above\n",
    "SELECT\n",
    "  c_name AS customer,\n",
    "  total_spent\n",
    "FROM ranked_customers\n",
    "WHERE rn <= 5\n",
    "ORDER BY total_spent DESC\n",
    "LIMIT 100;"
   ]
  },
  {
   "cell_type": "markdown",
   "metadata": {
    "application/vnd.databricks.v1+cell": {
     "cellMetadata": {
      "byteLimit": 2048000,
      "rowLimit": 10000
     },
     "inputWidgets": {},
     "nuid": "cd0e0532-c3d9-482f-8556-19d6c52b61de",
     "showTitle": false,
     "tableResultSettingsMap": {},
     "title": ""
    }
   },
   "source": [
    "# Table Management\n",
    "**Please note**: The following table management commands (`CREATE`, `REPLACE`, `DROP`, `TRUNCATE`, `INSERT`,\n",
    "`MERGE`, `UPDATE`, `DELETE`, `ALTER`, etc.) require proper permissions in your Databricks environment.\n",
    "If you don’t have the necessary privileges, these operations may fail."
   ]
  },
  {
   "cell_type": "code",
   "execution_count": 0,
   "metadata": {
    "application/vnd.databricks.v1+cell": {
     "cellMetadata": {
      "byteLimit": 2048000,
      "implicitDf": true,
      "rowLimit": 10000
     },
     "inputWidgets": {},
     "nuid": "d9cbf70d-cb62-4d40-81cb-4f0b5ed97a6f",
     "showTitle": false,
     "tableResultSettingsMap": {},
     "title": ""
    }
   },
   "outputs": [],
   "source": [
    "%sql\n",
    "-- Describe Table: Inspect the schema (column names/types) of a table.\n",
    "DESCRIBE TABLE samples.tpch.orders;"
   ]
  },
  {
   "cell_type": "code",
   "execution_count": 0,
   "metadata": {
    "application/vnd.databricks.v1+cell": {
     "cellMetadata": {
      "byteLimit": 2048000,
      "implicitDf": true,
      "rowLimit": 10000
     },
     "inputWidgets": {},
     "nuid": "e17cf187-e9a8-40ad-90bc-2ff761cd33d2",
     "showTitle": false,
     "tableResultSettingsMap": {},
     "title": ""
    }
   },
   "outputs": [],
   "source": [
    "%sql\n",
    "-- Describe Table Extended: Inspect the schema (column names/types) of a table and other table metadata\n",
    "DESCRIBE TABLE EXTENDED samples.tpch.orders;"
   ]
  },
  {
   "cell_type": "code",
   "execution_count": 0,
   "metadata": {
    "application/vnd.databricks.v1+cell": {
     "cellMetadata": {
      "byteLimit": 2048000,
      "implicitDf": true,
      "rowLimit": 10000
     },
     "inputWidgets": {},
     "nuid": "9a4c3653-f94f-4273-8aa3-c9220bf7df60",
     "showTitle": false,
     "tableResultSettingsMap": {},
     "title": ""
    }
   },
   "outputs": [],
   "source": [
    "%sql\n",
    "-- Describe Detail: Get extended metadata (location, file count, size) for a Delta table.\n",
    "DESCRIBE DETAIL samples.tpch.orders;"
   ]
  },
  {
   "cell_type": "code",
   "execution_count": 0,
   "metadata": {
    "application/vnd.databricks.v1+cell": {
     "cellMetadata": {
      "byteLimit": 2048000,
      "implicitDf": true,
      "rowLimit": 10000
     },
     "inputWidgets": {},
     "nuid": "ea3e6028-a2f3-4a77-8289-ecb84bc8211c",
     "showTitle": false,
     "tableResultSettingsMap": {},
     "title": ""
    }
   },
   "outputs": [],
   "source": [
    "%sql\n",
    "-- Show Tables In: List all tables in the TPCH schema.\n",
    "SHOW TABLES IN samples.tpch;"
   ]
  },
  {
   "cell_type": "code",
   "execution_count": 0,
   "metadata": {
    "application/vnd.databricks.v1+cell": {
     "cellMetadata": {
      "byteLimit": 2048000,
      "implicitDf": true,
      "rowLimit": 10000
     },
     "inputWidgets": {},
     "nuid": "829200c3-8fa8-4745-a4fa-b5587e03d663",
     "showTitle": false,
     "tableResultSettingsMap": {},
     "title": ""
    }
   },
   "outputs": [],
   "source": [
    "%sql\n",
    "-- Create or Replace Table: Create a bronze table of all 1994 line items. Replace <catalog>.<schema>.<table_name> with your fully qualified name for the table.\n",
    "CREATE OR REPLACE TABLE <catalog>.<schema>.<table_name>\n",
    "AS\n",
    "(SELECT *\n",
    "FROM samples.tpch.lineitem\n",
    "WHERE l_shipdate BETWEEN '1994-01-01' AND '1994-12-31');"
   ]
  },
  {
   "cell_type": "code",
   "execution_count": 0,
   "metadata": {
    "application/vnd.databricks.v1+cell": {
     "cellMetadata": {
      "byteLimit": 2048000,
      "implicitDf": true,
      "rowLimit": 10000
     },
     "inputWidgets": {},
     "nuid": "7cef8c9f-93c3-486e-a161-09085bb497fb",
     "showTitle": false,
     "tableResultSettingsMap": {},
     "title": ""
    }
   },
   "outputs": [],
   "source": [
    "%sql\n",
    "-- Create or Replace View: Define a view showing each customer’s monthly revenue.  Replace <catalog>.<schema>.<table_name> with your fully qualified name for the view.\n",
    "CREATE OR REPLACE VIEW <catalog>.<schema>.<table_name>\n",
    "AS\n",
    "(SELECT\n",
    "  c_custkey,\n",
    "  date_format(o_orderdate, 'yyyy-MM') AS order_month,\n",
    "  SUM(o_totalprice)         AS revenue\n",
    "FROM samples.tpch.orders\n",
    "GROUP BY c_custkey, date_format(o_orderdate, 'yyyy-MM')\n",
    ");"
   ]
  },
  {
   "cell_type": "code",
   "execution_count": 0,
   "metadata": {
    "application/vnd.databricks.v1+cell": {
     "cellMetadata": {
      "byteLimit": 2048000,
      "implicitDf": true,
      "rowLimit": 10000
     },
     "inputWidgets": {},
     "nuid": "cb300336-5771-4248-8c24-42ee44d32ee0",
     "showTitle": false,
     "tableResultSettingsMap": {},
     "title": ""
    }
   },
   "outputs": [],
   "source": [
    "%sql\n",
    "-- Drop Table If Exists: Clean up an old staging table before recreating it. Replace <catalog>.<schema>.<table_name> with your fully qualified name for the table.\n",
    "DROP TABLE IF EXISTS <catalog>.<schema>.<table_name>;"
   ]
  },
  {
   "cell_type": "code",
   "execution_count": 0,
   "metadata": {
    "application/vnd.databricks.v1+cell": {
     "cellMetadata": {
      "byteLimit": 2048000,
      "implicitDf": true,
      "rowLimit": 10000
     },
     "inputWidgets": {},
     "nuid": "a82a5327-8736-4979-9dd2-faddd5409f98",
     "showTitle": false,
     "tableResultSettingsMap": {},
     "title": ""
    }
   },
   "outputs": [],
   "source": [
    "%sql\n",
    "-- Truncate Table: Quickly remove all data from a table while keeping its schema. Replace <catalog>.<schema>.<table_name> with your fully qualified name for the view.\n",
    "TRUNCATE TABLE <catalog>.<schema>.<table_name>;"
   ]
  },
  {
   "cell_type": "code",
   "execution_count": 0,
   "metadata": {
    "application/vnd.databricks.v1+cell": {
     "cellMetadata": {
      "byteLimit": 2048000,
      "implicitDf": true,
      "rowLimit": 10000
     },
     "inputWidgets": {},
     "nuid": "7503013b-0b8c-4712-938f-85c409263ce6",
     "showTitle": false,
     "tableResultSettingsMap": {},
     "title": ""
    }
   },
   "outputs": [],
   "source": [
    "%sql\n",
    "-- Insert Into: Append today’s new orders into a historical orders table. Replace <catalog>.<schema>.<table_name> with your fully qualified name for the table.\n",
    "INSERT INTO <catalog>.<schema>.<table_name>\n",
    "SELECT *\n",
    "FROM samples.tpch.orders\n",
    "WHERE o_orderdate = CURRENT_DATE();"
   ]
  },
  {
   "cell_type": "code",
   "execution_count": 0,
   "metadata": {
    "application/vnd.databricks.v1+cell": {
     "cellMetadata": {
      "byteLimit": 2048000,
      "implicitDf": true,
      "rowLimit": 10000
     },
     "inputWidgets": {},
     "nuid": "ccaa66ea-4c13-4fa5-ad4b-4f029e5ae59e",
     "showTitle": false,
     "tableResultSettingsMap": {},
     "title": ""
    }
   },
   "outputs": [],
   "source": [
    "%sql\n",
    "-- Merge Into: Upsert daily shipment records—update existing, insert new.\n",
    "MERGE INTO <catalog>.<schema>.<table_name> AS target\n",
    "USING daily_shipments AS source\n",
    "  ON target.ship_id = source.ship_id\n",
    "WHEN MATCHED THEN\n",
    "  UPDATE SET\n",
    "    target.status       = source.status,\n",
    "    target.last_updated = source.last_updated\n",
    "WHEN NOT MATCHED THEN\n",
    "  INSERT (ship_id, order_id, status, last_updated)\n",
    "  VALUES (source.ship_id, source.order_id, source.status, source.last_updated);"
   ]
  },
  {
   "cell_type": "code",
   "execution_count": 0,
   "metadata": {
    "application/vnd.databricks.v1+cell": {
     "cellMetadata": {
      "byteLimit": 2048000,
      "implicitDf": true,
      "rowLimit": 10000
     },
     "inputWidgets": {},
     "nuid": "784aab47-f84d-4445-bf64-4dcc1cb8e040",
     "showTitle": false,
     "tableResultSettingsMap": {},
     "title": ""
    }
   },
   "outputs": [],
   "source": [
    "%sql\n",
    "-- Update: Correct customer nation key where it’s missing. Replace <catalog>.<schema>.<table_name> with your fully qualified name for the table.\n",
    "UPDATE <catalog>.<schema>.<table_name>\n",
    "SET c_nationkey = 1\n",
    "WHERE c_nationkey IS NULL;"
   ]
  },
  {
   "cell_type": "code",
   "execution_count": 0,
   "metadata": {
    "application/vnd.databricks.v1+cell": {
     "cellMetadata": {
      "byteLimit": 2048000,
      "implicitDf": true,
      "rowLimit": 10000
     },
     "inputWidgets": {},
     "nuid": "bfbe4841-a4ac-411d-a534-53dc799a14fb",
     "showTitle": false,
     "tableResultSettingsMap": {},
     "title": ""
    }
   },
   "outputs": [],
   "source": [
    "%sql\n",
    "-- Delete: Remove cancelled orders that have zero total price. Replace <catalog>.<schema>.<table_name> with your fully qualified name for the table.\n",
    "DELETE FROM <catalog>.<schema>.<table_name>\n",
    "WHERE o_totalprice = 0;"
   ]
  },
  {
   "cell_type": "code",
   "execution_count": 0,
   "metadata": {
    "application/vnd.databricks.v1+cell": {
     "cellMetadata": {
      "byteLimit": 2048000,
      "implicitDf": true,
      "rowLimit": 10000
     },
     "inputWidgets": {},
     "nuid": "5773bcce-73a8-44f7-bada-47d2f7e7f09b",
     "showTitle": false,
     "tableResultSettingsMap": {},
     "title": ""
    }
   },
   "outputs": [],
   "source": [
    "%sql\n",
    "-- Alter Table – Add Column: Add a load_date column to track ingestion timestamp. Replace <catalog>.<schema>.<table_name> with your fully qualified name for the table.\n",
    "ALTER TABLE <catalog>.<schema>.<table_name>\n",
    "ADD COLUMNS (load_date DATE);"
   ]
  },
  {
   "cell_type": "code",
   "execution_count": 0,
   "metadata": {
    "application/vnd.databricks.v1+cell": {
     "cellMetadata": {
      "byteLimit": 2048000,
      "implicitDf": true,
      "rowLimit": 10000
     },
     "inputWidgets": {},
     "nuid": "510d0a12-e8d0-4300-b42e-9b8e45107882",
     "showTitle": false,
     "tableResultSettingsMap": {},
     "title": ""
    }
   },
   "outputs": [],
   "source": [
    "%sql\n",
    "-- Alter Table – Drop Column: Remove an obsolete column from a table. Replace <catalog>.<schema>.<table_name> with your fully qualified name for the table.\n",
    "ALTER TABLE <catalog>.<schema>.<table_name>\n",
    "DROP COLUMN revenue;"
   ]
  }
 ],
 "metadata": {
  "application/vnd.databricks.v1+notebook": {
   "computePreferences": null,
   "dashboards": [],
   "environmentMetadata": {
    "base_environment": "",
    "environment_version": "2"
   },
   "inputWidgetPreferences": null,
   "language": "python",
   "notebookMetadata": {
    "mostRecentlyExecutedCommandWithImplicitDF": {
     "commandId": 5765734542900036,
     "dataframes": [
      "_sqldf"
     ]
    },
    "pythonIndentUnit": 2
   },
   "notebookName": "example_spark_sql_queries",
   "widgets": {}
  },
  "language_info": {
   "name": "python"
  }
 },
 "nbformat": 4,
 "nbformat_minor": 0
}
