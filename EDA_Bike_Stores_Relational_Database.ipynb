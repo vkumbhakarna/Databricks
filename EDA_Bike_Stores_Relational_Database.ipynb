{
 "cells": [
  {
   "cell_type": "markdown",
   "metadata": {
    "application/vnd.databricks.v1+cell": {
     "cellMetadata": {},
     "inputWidgets": {},
     "nuid": "d9df8f34-6f33-4a6c-b1ae-24a27c08b14e",
     "showTitle": false,
     "tableResultSettingsMap": {},
     "title": ""
    }
   },
   "source": [
    "# Bike Stores Relational Database "
   ]
  },
  {
   "cell_type": "code",
   "execution_count": 0,
   "metadata": {
    "application/vnd.databricks.v1+cell": {
     "cellMetadata": {
      "byteLimit": 2048000,
      "rowLimit": 10000
     },
     "inputWidgets": {},
     "nuid": "7c0e0791-99c9-4663-92c6-5a479df87991",
     "showTitle": false,
     "tableResultSettingsMap": {},
     "title": ""
    }
   },
   "outputs": [],
   "source": [
    "pip install kagglehub"
   ]
  },
  {
   "cell_type": "code",
   "execution_count": 0,
   "metadata": {
    "application/vnd.databricks.v1+cell": {
     "cellMetadata": {
      "byteLimit": 2048000,
      "rowLimit": 10000
     },
     "inputWidgets": {},
     "nuid": "ffc3cb4d-d42c-427a-9b5c-86c46468d55c",
     "showTitle": false,
     "tableResultSettingsMap": {},
     "title": ""
    }
   },
   "outputs": [],
   "source": [
    "%restart_python"
   ]
  },
  {
   "cell_type": "code",
   "execution_count": 0,
   "metadata": {
    "application/vnd.databricks.v1+cell": {
     "cellMetadata": {
      "byteLimit": 2048000,
      "rowLimit": 10000
     },
     "inputWidgets": {},
     "nuid": "25854e3f-620a-49cd-aaed-7c419c84118b",
     "showTitle": false,
     "tableResultSettingsMap": {},
     "title": ""
    }
   },
   "outputs": [],
   "source": [
    "import kagglehub\n",
    "\n",
    "# Download latest version\n",
    "path = kagglehub.dataset_download(\"dillonmyrick/bike-store-sample-database\")\n",
    "\n",
    "print(\"Path to dataset files:\", path)"
   ]
  },
  {
   "cell_type": "code",
   "execution_count": 0,
   "metadata": {
    "application/vnd.databricks.v1+cell": {
     "cellMetadata": {
      "byteLimit": 2048000,
      "rowLimit": 10000
     },
     "inputWidgets": {},
     "nuid": "4aa9687f-1c9a-43b3-bc56-53815e783f23",
     "showTitle": false,
     "tableResultSettingsMap": {
      "0": {
       "dataGridStateBlob": "{\"version\":1,\"tableState\":{\"columnPinning\":{\"left\":[\"#row_number#\"],\"right\":[]},\"columnSizing\":{\"_1\":147},\"columnVisibility\":{}},\"settings\":{\"columns\":{}},\"syncTimestamp\":1753506045087}",
       "filterBlob": null,
       "queryPlanFiltersBlob": null,
       "tableResultIndex": 0
      }
     },
     "title": ""
    }
   },
   "outputs": [],
   "source": [
    "import os\n",
    "\n",
    "dataset_path = \"/home/spark-99100516-4c2b-4fad-962a-23/.cache/kagglehub/datasets/dillonmyrick/bike-store-sample-database/versions/3\"\n",
    "files = os.listdir(dataset_path)\n",
    "display(files)"
   ]
  },
  {
   "cell_type": "code",
   "execution_count": 0,
   "metadata": {
    "application/vnd.databricks.v1+cell": {
     "cellMetadata": {
      "byteLimit": 2048000,
      "rowLimit": 10000
     },
     "inputWidgets": {},
     "nuid": "a8231509-6881-4d04-bd23-20654e7fdcbf",
     "showTitle": false,
     "tableResultSettingsMap": {},
     "title": ""
    }
   },
   "outputs": [],
   "source": [
    "import os\n",
    "\n",
    "catalog = \"learning\"\n",
    "schema = \"data\"\n",
    "dataset_path = \"/home/spark-99100516-4c2b-4fad-962a-23/.cache/kagglehub/datasets/dillonmyrick/bike-store-sample-database/versions/3\"\n",
    "\n",
    "files = [f for f in os.listdir(dataset_path) if f.endswith(\".csv\")]\n",
    "\n",
    "for file in files:\n",
    "    file_path = os.path.join(dataset_path, file)\n",
    "    table_name = os.path.splitext(file)[0].replace(\" \", \"_\").lower()\n",
    "    full_table_name = f\"{catalog}.{schema}.{table_name}\"\n",
    "    df = spark.read.option(\"header\", \"true\").option(\"inferSchema\", \"true\").csv(file_path)\n",
    "    df.write.mode(\"overwrite\").saveAsTable(full_table_name)"
   ]
  },
  {
   "cell_type": "code",
   "execution_count": 0,
   "metadata": {
    "application/vnd.databricks.v1+cell": {
     "cellMetadata": {
      "byteLimit": 2048000,
      "rowLimit": 10000
     },
     "inputWidgets": {},
     "nuid": "0a3c3cbf-e574-4a19-84ca-8fdc4a6058ce",
     "showTitle": false,
     "tableResultSettingsMap": {},
     "title": ""
    }
   },
   "outputs": [],
   "source": [
    "import os\n",
    "\n",
    "# Replace with the actual path from the previous cell\n",
    "dataset_path = \"/home/spark-99100516-4c2b-4fad-962a-23/.cache/kagglehub/datasets/dillonmyrick/bike-store-sample-database/versions/3\"\n",
    "\n",
    "# List all files in the dataset directory\n",
    "files = [f for f in os.listdir(dataset_path) if os.path.isfile(os.path.join(dataset_path, f))]\n",
    "\n",
    "for file in files:\n",
    "    file_path = os.path.join(dataset_path, file)\n",
    "    table_name = os.path.splitext(file)[0].replace(\" \", \"_\").lower()\n",
    "    if file.endswith(\".csv\"):\n",
    "        df = spark.read.option(\"header\", \"true\").option(\"inferSchema\", \"true\").csv(file_path)\n",
    "        df.write.mode(\"overwrite\").saveAsTable(table_name)\n",
    "    elif file.endswith(\".parquet\"):\n",
    "        df = spark.read.parquet(file_path)\n",
    "        df.write.mode(\"overwrite\").saveAsTable(table_name)"
   ]
  },
  {
   "cell_type": "code",
   "execution_count": 0,
   "metadata": {
    "application/vnd.databricks.v1+cell": {
     "cellMetadata": {
      "byteLimit": 2048000,
      "rowLimit": 10000
     },
     "inputWidgets": {},
     "nuid": "b252600b-f327-4f49-ad87-8b253686a8a8",
     "showTitle": false,
     "tableResultSettingsMap": {},
     "title": ""
    }
   },
   "outputs": [],
   "source": []
  },
  {
   "cell_type": "code",
   "execution_count": 0,
   "metadata": {
    "application/vnd.databricks.v1+cell": {
     "cellMetadata": {
      "byteLimit": 2048000,
      "rowLimit": 10000
     },
     "inputWidgets": {},
     "nuid": "fa84bcf3-579c-41ae-a208-8099054e9aed",
     "showTitle": false,
     "tableResultSettingsMap": {},
     "title": ""
    }
   },
   "outputs": [],
   "source": [
    "import os\n",
    "\n",
    "catalog = \"learning\"\n",
    "schema = \"bike_store\"\n",
    "dataset_path = \"/Volumes/learning/data/raw/bike-store-sample-database/\"\n",
    "\n",
    "files = [f for f in os.listdir(dataset_path) if os.path.isfile(os.path.join(dataset_path, f))]\n",
    "\n",
    "for file in files:\n",
    "    file_path = os.path.join(dataset_path, file)\n",
    "    table_name = os.path.splitext(file)[0].replace(\" \", \"_\").lower()\n",
    "    full_table_name = f\"{catalog}.{schema}.{table_name}\"\n",
    "    if file.endswith(\".csv\"):\n",
    "        df = spark.read.option(\"header\", \"true\").option(\"inferSchema\", \"true\").csv(file_path)\n",
    "        df.write.mode(\"overwrite\").saveAsTable(full_table_name)\n",
    "    elif file.endswith(\".parquet\"):\n",
    "        df = spark.read.parquet(file_path)\n",
    "        df.write.mode(\"overwrite\").saveAsTable(full_table_name)"
   ]
  },
  {
   "cell_type": "markdown",
   "metadata": {
    "application/vnd.databricks.v1+cell": {
     "cellMetadata": {},
     "inputWidgets": {},
     "nuid": "cd0ff8a1-ad92-4e4d-ab74-3ff715c9c8f7",
     "showTitle": false,
     "tableResultSettingsMap": {},
     "title": ""
    }
   },
   "source": [
    "# Exploratory Data Analysis of all tables in Bike Stores dataset \n"
   ]
  },
  {
   "cell_type": "code",
   "execution_count": 0,
   "metadata": {
    "application/vnd.databricks.v1+cell": {
     "cellMetadata": {
      "byteLimit": 2048000,
      "rowLimit": 10000
     },
     "inputWidgets": {},
     "nuid": "fad36b81-c727-4a18-8b7f-bfcf90a57108",
     "showTitle": false,
     "tableResultSettingsMap": {},
     "title": ""
    }
   },
   "outputs": [],
   "source": [
    "tables = [row.tableName for row in spark.sql(\"SHOW TABLES IN learning.bike_store\").collect()]\n",
    "\n",
    "for table in tables:\n",
    "    print(f\"--- {table} ---\")\n",
    "    df = spark.table(f\"learning.bike_store.{table}\")\n",
    "    print(\"Schema:\")\n",
    "    df.printSchema()\n",
    "    print(\"Row count:\")\n",
    "    display(spark.sql(f\"SELECT COUNT(*) AS row_count FROM learning.data.{table}\"))\n",
    "    print(\"Sample rows:\")\n",
    "    display(df.limit(10))\n",
    "    print(\"Summary statistics (numeric columns):\")\n",
    "    display(df.describe())\n",
    "    print(\"\\n\")"
   ]
  },
  {
   "cell_type": "code",
   "execution_count": 0,
   "metadata": {
    "application/vnd.databricks.v1+cell": {
     "cellMetadata": {},
     "inputWidgets": {},
     "nuid": "1deebd6c-038e-475b-8839-21e90492502a",
     "showTitle": false,
     "tableResultSettingsMap": {},
     "title": ""
    }
   },
   "outputs": [],
   "source": []
  }
 ],
 "metadata": {
  "application/vnd.databricks.v1+notebook": {
   "computePreferences": null,
   "dashboards": [],
   "environmentMetadata": {
    "base_environment": "",
    "environment_version": "2"
   },
   "inputWidgetPreferences": null,
   "language": "python",
   "notebookMetadata": {
    "pythonIndentUnit": 4
   },
   "notebookName": "EDA_Bike_Stores_Relational_Database",
   "widgets": {}
  },
  "language_info": {
   "name": "python"
  }
 },
 "nbformat": 4,
 "nbformat_minor": 0
}
